{
 "cells": [
  {
   "cell_type": "markdown",
   "id": "ee051e6a-748d-446d-998b-b760f214ab05",
   "metadata": {},
   "source": [
    "# Подключение библиотек"
   ]
  },
  {
   "cell_type": "code",
   "execution_count": 1,
   "id": "9c2f878d-f8af-4dc0-8354-3ab7708e540c",
   "metadata": {},
   "outputs": [
    {
     "data": {
      "text/plain": [
       "True"
      ]
     },
     "execution_count": 1,
     "metadata": {},
     "output_type": "execute_result"
    }
   ],
   "source": [
    "from transformers import TextClassificationPipeline, AutoModelForSequenceClassification, AutoTokenizer, AutoModelForCausalLM, pipeline\n",
    "from huggingface_hub import InferenceClient\n",
    "import torch\n",
    "from dotenv import load_dotenv\n",
    "from newsapi import NewsApiClient\n",
    "import numpy as np\n",
    "import pandas as pd\n",
    "from bs4 import BeautifulSoup\n",
    "import tqdm\n",
    "import matplotlib.pyplot as plt\n",
    "\n",
    "import os\n",
    "import re\n",
    "import signal\n",
    "from functools import wraps\n",
    "from datetime import datetime, timedelta\n",
    "from IPython.display import clear_output\n",
    "\n",
    "load_dotenv()"
   ]
  },
  {
   "cell_type": "markdown",
   "id": "00a335b7-71d7-4826-9369-e400db531221",
   "metadata": {},
   "source": [
    "# Получение новостей по BTC"
   ]
  },
  {
   "cell_type": "code",
   "execution_count": 2,
   "id": "facee688-356c-4413-887b-ac433cb3eb3f",
   "metadata": {},
   "outputs": [],
   "source": [
    "newsapi = NewsApiClient(api_key=os.getenv('NEWSAPI_KEY'))"
   ]
  },
  {
   "cell_type": "code",
   "execution_count": 45,
   "id": "3a00762a-38db-47a2-9f97-5228445d687b",
   "metadata": {},
   "outputs": [],
   "source": [
    "to_time = datetime.utcnow()\n",
    "from_time = now - timedelta(hours=24*28)\n",
    "\n",
    "from_time = from_time.strftime('%Y-%m-%dT%H:%M:%S')\n",
    "to_time = to_time.strftime('%Y-%m-%dT%H:%M:%S')"
   ]
  },
  {
   "cell_type": "code",
   "execution_count": 46,
   "id": "1a13014a-f042-436c-aa74-7eed760eb25d",
   "metadata": {},
   "outputs": [],
   "source": [
    "news_data = newsapi.get_everything(\n",
    "    q='bitcoin', \n",
    "    language='en',\n",
    "    from_param=from_time,\n",
    "    to=to_time,\n",
    "    sort_by='publishedAt',\n",
    "    sources='crypto-coins-news, ars-technica, bloomberg, business-insider, the-next-web, the-verge, wired,' +\\\n",
    "    'reuters, the-washington-post, reddit-r-all, hacker-news, the-wall-street-journal, associated-press, time'\n",
    ")"
   ]
  },
  {
   "cell_type": "code",
   "execution_count": 72,
   "id": "926e19fd-4009-47bc-bb1c-f8ab91404bad",
   "metadata": {},
   "outputs": [],
   "source": [
    "to_time = datetime.utcnow()\n",
    "from_time = now - timedelta(hours=24+10)\n",
    "\n",
    "from_time = from_time.strftime('%Y-%m-%dT%H:%M:%S')\n",
    "to_time = to_time.strftime('%Y-%m-%dT%H:%M:%S')"
   ]
  },
  {
   "cell_type": "code",
   "execution_count": 73,
   "id": "bcdb372e-d452-4d6e-8339-adc5c8e1eb01",
   "metadata": {},
   "outputs": [
    {
     "data": {
      "text/plain": [
       "('2024-10-07T04:38:44', '2024-10-08T15:37:39')"
      ]
     },
     "execution_count": 73,
     "metadata": {},
     "output_type": "execute_result"
    }
   ],
   "source": [
    "from_time, to_time"
   ]
  },
  {
   "cell_type": "code",
   "execution_count": 74,
   "id": "e2beb615-5a76-4aef-ab9d-2f9068d98a1b",
   "metadata": {},
   "outputs": [],
   "source": [
    "now_data = newsapi.get_everything(\n",
    "    q='bitcoin', \n",
    "    language='en',\n",
    "    from_param=from_time,\n",
    "    to=to_time,\n",
    "    sort_by='publishedAt',\n",
    "    sources='crypto-coins-news, ars-technica, bloomberg, business-insider, the-next-web, the-verge, wired,' +\\\n",
    "    'reuters, the-washington-post, reddit-r-all, hacker-news, the-wall-street-journal, associated-press, time'\n",
    ")"
   ]
  },
  {
   "cell_type": "code",
   "execution_count": 75,
   "id": "fe1121d1-70f4-4422-b700-5e6ebfa4669a",
   "metadata": {},
   "outputs": [
    {
     "data": {
      "text/plain": [
       "{'status': 'ok',\n",
       " 'totalResults': 1,\n",
       " 'articles': [{'source': {'id': 'business-insider',\n",
       "    'name': 'Business Insider'},\n",
       "   'author': 'mfox@businessinsider.com (Matthew Fox)',\n",
       "   'title': 'Stock market today: Indexes slip as bond yields jump after strong jobs data',\n",
       "   'description': '\"We can\\'t rule out \\'higher for longer\\' making a comeback this winter,\" Yardeni Research said of the strong jobs report and recent jump in rates.',\n",
       "   'url': 'https://markets.businessinsider.com/news/stocks/stock-market-today-key-bond-yields-jump-on-jobs-data-2024-10',\n",
       "   'urlToImage': 'https://i.insider.com/6703de133f2165d716decac5?width=1200&format=jpeg',\n",
       "   'publishedAt': '2024-10-07T13:36:01Z',\n",
       "   'content': 'US stocks dipped to start the week as investors assessed the outlook for interest rates following the strong September jobs report.\\r\\nThe market is taking a breather after ending last week with the fo… [+1907 chars]'}]}"
      ]
     },
     "execution_count": 75,
     "metadata": {},
     "output_type": "execute_result"
    }
   ],
   "source": [
    "now_data"
   ]
  },
  {
   "cell_type": "code",
   "execution_count": 53,
   "id": "e7cb39a8-d1fc-4580-a425-a49cdb6f1507",
   "metadata": {},
   "outputs": [
    {
     "data": {
      "text/plain": [
       "50"
      ]
     },
     "execution_count": 53,
     "metadata": {},
     "output_type": "execute_result"
    }
   ],
   "source": [
    "len(news_data[\"articles\"])"
   ]
  },
  {
   "cell_type": "code",
   "execution_count": 51,
   "id": "bfe8279f-6c4f-441f-b49a-634bcf57174e",
   "metadata": {},
   "outputs": [
    {
     "data": {
      "text/plain": [
       "dict_keys(['source', 'author', 'title', 'description', 'url', 'urlToImage', 'publishedAt', 'content'])"
      ]
     },
     "execution_count": 51,
     "metadata": {},
     "output_type": "execute_result"
    }
   ],
   "source": [
    "news_data[\"articles\"][0].keys()"
   ]
  },
  {
   "cell_type": "code",
   "execution_count": 52,
   "id": "e5f7a68b-d465-4a48-b65a-ca9bde03cb0a",
   "metadata": {},
   "outputs": [],
   "source": [
    "def clean_html(text):\n",
    "    soup = BeautifulSoup(text, \"html.parser\")\n",
    "    return soup.get_text(separator=\" \", strip=True)"
   ]
  },
  {
   "cell_type": "code",
   "execution_count": 53,
   "id": "9a4c9df6-f9c2-4b19-af03-2388cbbada1d",
   "metadata": {},
   "outputs": [],
   "source": [
    "news_df = pd.DataFrame(\n",
    "    columns=[\"content\", \"title_and_description\", \"source\", \"published_at\"]\n",
    ")"
   ]
  },
  {
   "cell_type": "code",
   "execution_count": 54,
   "id": "2e571536-62a1-412d-acd6-b1450ee05ff6",
   "metadata": {},
   "outputs": [
    {
     "name": "stderr",
     "output_type": "stream",
     "text": [
      "/tmp/ipykernel_18/1514376532.py:2: MarkupResemblesLocatorWarning: The input looks more like a filename than markup. You may want to open this file and pass the filehandle into Beautiful Soup.\n",
      "  soup = BeautifulSoup(text, \"html.parser\")\n",
      "/tmp/ipykernel_18/1514376532.py:2: MarkupResemblesLocatorWarning: The input looks more like a filename than markup. You may want to open this file and pass the filehandle into Beautiful Soup.\n",
      "  soup = BeautifulSoup(text, \"html.parser\")\n"
     ]
    }
   ],
   "source": [
    "for article in news_data[\"articles\"]:\n",
    "    new_row = {\n",
    "        \"content\": clean_html(article[\"content\"]), \n",
    "        \"title_and_description\": clean_html(article[\"title\"] + \" \" + article[\"description\"]), \n",
    "        \"source\": article[\"source\"][\"name\"], \n",
    "        \"published_at\": article[\"publishedAt\"]\n",
    "    }\n",
    "    news_df = news_df._append(new_row, ignore_index=True)"
   ]
  },
  {
   "cell_type": "code",
   "execution_count": 55,
   "id": "1778be80-293f-4845-b8c5-5b4ca5e4348a",
   "metadata": {},
   "outputs": [
    {
     "data": {
      "text/html": [
       "<div>\n",
       "<style scoped>\n",
       "    .dataframe tbody tr th:only-of-type {\n",
       "        vertical-align: middle;\n",
       "    }\n",
       "\n",
       "    .dataframe tbody tr th {\n",
       "        vertical-align: top;\n",
       "    }\n",
       "\n",
       "    .dataframe thead th {\n",
       "        text-align: right;\n",
       "    }\n",
       "</style>\n",
       "<table border=\"1\" class=\"dataframe\">\n",
       "  <thead>\n",
       "    <tr style=\"text-align: right;\">\n",
       "      <th></th>\n",
       "      <th>content</th>\n",
       "      <th>title_and_description</th>\n",
       "      <th>source</th>\n",
       "      <th>published_at</th>\n",
       "    </tr>\n",
       "  </thead>\n",
       "  <tbody>\n",
       "    <tr>\n",
       "      <th>0</th>\n",
       "      <td>US stocks surged about 1% on Friday after the ...</td>\n",
       "      <td>Stock market today: US stocks notch 4-week win...</td>\n",
       "      <td>Business Insider</td>\n",
       "      <td>2024-10-04T20:10:21Z</td>\n",
       "    </tr>\n",
       "    <tr>\n",
       "      <th>1</th>\n",
       "      <td>US stocks surged on Friday after the September...</td>\n",
       "      <td>Stock market today: US stocks jump after blowo...</td>\n",
       "      <td>Business Insider</td>\n",
       "      <td>2024-10-04T13:42:52Z</td>\n",
       "    </tr>\n",
       "    <tr>\n",
       "      <th>2</th>\n",
       "      <td>Markets closed lower on Thursday amid rising f...</td>\n",
       "      <td>Stock market today: Indexes fall, oil surges o...</td>\n",
       "      <td>Business Insider</td>\n",
       "      <td>2024-10-03T20:11:36Z</td>\n",
       "    </tr>\n",
       "    <tr>\n",
       "      <th>3</th>\n",
       "      <td>The big boys want in on crypto, too\\r\\nThe big...</td>\n",
       "      <td>The big boys want in on crypto, too Visa, PayP...</td>\n",
       "      <td>The Verge</td>\n",
       "      <td>2024-10-03T19:32:35Z</td>\n",
       "    </tr>\n",
       "    <tr>\n",
       "      <th>4</th>\n",
       "      <td>US stocks inched lower on Thursday, fueled by ...</td>\n",
       "      <td>Stock markets today: Indexes slip as jobless c...</td>\n",
       "      <td>Business Insider</td>\n",
       "      <td>2024-10-03T13:37:41Z</td>\n",
       "    </tr>\n",
       "    <tr>\n",
       "      <th>5</th>\n",
       "      <td>US stocks ended slightly higher on Wednesday a...</td>\n",
       "      <td>Stock market today: US stocks edge up amid Mid...</td>\n",
       "      <td>Business Insider</td>\n",
       "      <td>2024-10-02T20:08:12Z</td>\n",
       "    </tr>\n",
       "    <tr>\n",
       "      <th>6</th>\n",
       "      <td>US stocks dropped Wednesday as traders continu...</td>\n",
       "      <td>Stock market today: Indexes extend losses as t...</td>\n",
       "      <td>Business Insider</td>\n",
       "      <td>2024-10-02T13:41:48Z</td>\n",
       "    </tr>\n",
       "    <tr>\n",
       "      <th>7</th>\n",
       "      <td>Stock indexes dropped on Tuesday as escalating...</td>\n",
       "      <td>Stocks tumble, oil spikes as Mideast tensions ...</td>\n",
       "      <td>Business Insider</td>\n",
       "      <td>2024-10-01T20:31:47Z</td>\n",
       "    </tr>\n",
       "    <tr>\n",
       "      <th>8</th>\n",
       "      <td>Major stock indexes slid on Tuesday to kick of...</td>\n",
       "      <td>Stock market today: Indexes slide as investors...</td>\n",
       "      <td>Business Insider</td>\n",
       "      <td>2024-10-01T13:50:30Z</td>\n",
       "    </tr>\n",
       "    <tr>\n",
       "      <th>9</th>\n",
       "      <td>Paid non-client promotion: Affiliate links for...</td>\n",
       "      <td>Putting some retirement savings in bitcoin mig...</td>\n",
       "      <td>Business Insider</td>\n",
       "      <td>2024-10-01T12:42:02Z</td>\n",
       "    </tr>\n",
       "    <tr>\n",
       "      <th>10</th>\n",
       "      <td>US stocks rose on Monday, with the Dow and S&amp;P...</td>\n",
       "      <td>Stock market today: US indexes edge higher to ...</td>\n",
       "      <td>Business Insider</td>\n",
       "      <td>2024-09-30T20:23:04Z</td>\n",
       "    </tr>\n",
       "    <tr>\n",
       "      <th>11</th>\n",
       "      <td>US stocks edged lower on Monday as investors p...</td>\n",
       "      <td>Stock market today: US indexes drop as investo...</td>\n",
       "      <td>Business Insider</td>\n",
       "      <td>2024-09-30T13:54:39Z</td>\n",
       "    </tr>\n",
       "    <tr>\n",
       "      <th>12</th>\n",
       "      <td>US stocks were mixed on Friday, with the Dow J...</td>\n",
       "      <td>Stock market today: Dow hits record high, stoc...</td>\n",
       "      <td>Business Insider</td>\n",
       "      <td>2024-09-27T20:28:13Z</td>\n",
       "    </tr>\n",
       "    <tr>\n",
       "      <th>13</th>\n",
       "      <td>Celebrities partnering with watch brands is no...</td>\n",
       "      <td>Trump's $100,000 Watches Are the Most Tragic C...</td>\n",
       "      <td>Wired</td>\n",
       "      <td>2024-09-27T17:48:08Z</td>\n",
       "    </tr>\n",
       "    <tr>\n",
       "      <th>14</th>\n",
       "      <td>US stocks rose on Friday after cool inflation ...</td>\n",
       "      <td>Stock market today: US indexes gain after soft...</td>\n",
       "      <td>Business Insider</td>\n",
       "      <td>2024-09-27T13:59:45Z</td>\n",
       "    </tr>\n",
       "    <tr>\n",
       "      <th>15</th>\n",
       "      <td>US stocks climbed on Thursday amid positive ec...</td>\n",
       "      <td>Stock market today: S&amp;P 500 notches fresh high...</td>\n",
       "      <td>Business Insider</td>\n",
       "      <td>2024-09-26T20:18:43Z</td>\n",
       "    </tr>\n",
       "    <tr>\n",
       "      <th>16</th>\n",
       "      <td>US stocks rallied on Thursday, fueled by China...</td>\n",
       "      <td>Stock market today: Indexes rally on China sti...</td>\n",
       "      <td>Business Insider</td>\n",
       "      <td>2024-09-26T14:14:14Z</td>\n",
       "    </tr>\n",
       "    <tr>\n",
       "      <th>17</th>\n",
       "      <td>US stocks were mostly lower on Wednesday, endi...</td>\n",
       "      <td>Stock market today: Dow, S&amp;P 500 drop as rally...</td>\n",
       "      <td>Business Insider</td>\n",
       "      <td>2024-09-25T20:06:16Z</td>\n",
       "    </tr>\n",
       "    <tr>\n",
       "      <th>18</th>\n",
       "      <td>US stocks were mostly flat on Wednesday as tra...</td>\n",
       "      <td>Stock market today: Indexes trade mixed as rec...</td>\n",
       "      <td>Business Insider</td>\n",
       "      <td>2024-09-25T13:47:07Z</td>\n",
       "    </tr>\n",
       "    <tr>\n",
       "      <th>19</th>\n",
       "      <td>US stocks kept up their winning streak on Tues...</td>\n",
       "      <td>Stock market today: New record highs as Nvidia...</td>\n",
       "      <td>Business Insider</td>\n",
       "      <td>2024-09-24T20:24:46Z</td>\n",
       "    </tr>\n",
       "    <tr>\n",
       "      <th>20</th>\n",
       "      <td>Stocks on Tuesday extended a winning streak th...</td>\n",
       "      <td>Stock market today: Indexes add to records as ...</td>\n",
       "      <td>Business Insider</td>\n",
       "      <td>2024-09-24T13:47:26Z</td>\n",
       "    </tr>\n",
       "    <tr>\n",
       "      <th>21</th>\n",
       "      <td>US stocks gained on Monday with the Dow Jones ...</td>\n",
       "      <td>Stock market today: Dow ends at a record high ...</td>\n",
       "      <td>Business Insider</td>\n",
       "      <td>2024-09-23T20:08:46Z</td>\n",
       "    </tr>\n",
       "    <tr>\n",
       "      <th>22</th>\n",
       "      <td>Last month, venture capitalist Balaji Srinivas...</td>\n",
       "      <td>A Mysterious School for the Network State Crow...</td>\n",
       "      <td>Wired</td>\n",
       "      <td>2024-09-23T17:20:49Z</td>\n",
       "    </tr>\n",
       "    <tr>\n",
       "      <th>23</th>\n",
       "      <td>US stocks rose on Monday, with the S&amp;P 500 and...</td>\n",
       "      <td>Stock market today: Indexes extend gains as in...</td>\n",
       "      <td>Business Insider</td>\n",
       "      <td>2024-09-23T13:48:10Z</td>\n",
       "    </tr>\n",
       "    <tr>\n",
       "      <th>24</th>\n",
       "      <td>The week was dominated by news that thousands ...</td>\n",
       "      <td>Iranian Hackers Tried to Give Hacked Trump Cam...</td>\n",
       "      <td>Wired</td>\n",
       "      <td>2024-09-21T10:30:00Z</td>\n",
       "    </tr>\n",
       "    <tr>\n",
       "      <th>25</th>\n",
       "      <td>US stocks closed mostly lower on Friday, but f...</td>\n",
       "      <td>Stock market today: US stocks end mixed but fi...</td>\n",
       "      <td>Business Insider</td>\n",
       "      <td>2024-09-20T20:07:48Z</td>\n",
       "    </tr>\n",
       "    <tr>\n",
       "      <th>26</th>\n",
       "      <td>US stocks traded sightly lower on Friday as in...</td>\n",
       "      <td>Stock market today: Indexes edge down as trade...</td>\n",
       "      <td>Business Insider</td>\n",
       "      <td>2024-09-20T13:49:13Z</td>\n",
       "    </tr>\n",
       "    <tr>\n",
       "      <th>27</th>\n",
       "      <td>Major stock indexes surged to record highs on ...</td>\n",
       "      <td>Stock market today: Indexes close at record hi...</td>\n",
       "      <td>Business Insider</td>\n",
       "      <td>2024-09-19T20:14:33Z</td>\n",
       "    </tr>\n",
       "    <tr>\n",
       "      <th>28</th>\n",
       "      <td>US stocks soared on Thursday in a late reactio...</td>\n",
       "      <td>Stock market today: Dow surges 462 points as s...</td>\n",
       "      <td>Business Insider</td>\n",
       "      <td>2024-09-19T13:51:24Z</td>\n",
       "    </tr>\n",
       "    <tr>\n",
       "      <th>29</th>\n",
       "      <td>The muddy trail levels out and we stop to catc...</td>\n",
       "      <td>A Game Designer Just Hid a Gold Trophy in the ...</td>\n",
       "      <td>Wired</td>\n",
       "      <td>2024-09-19T10:00:00Z</td>\n",
       "    </tr>\n",
       "    <tr>\n",
       "      <th>30</th>\n",
       "      <td>US stocks rose on Wednesday as traders readied...</td>\n",
       "      <td>Stock market today: Indexes edge up ahead of m...</td>\n",
       "      <td>Business Insider</td>\n",
       "      <td>2024-09-18T13:32:56Z</td>\n",
       "    </tr>\n",
       "    <tr>\n",
       "      <th>31</th>\n",
       "      <td>Not long ago, Monica Cotelingham found herself...</td>\n",
       "      <td>Welcome to the Golden Age of Scams Why you're ...</td>\n",
       "      <td>Time</td>\n",
       "      <td>2024-09-18T11:00:00Z</td>\n",
       "    </tr>\n",
       "    <tr>\n",
       "      <th>32</th>\n",
       "      <td>Indexes were mixed on Tuesday with investors s...</td>\n",
       "      <td>Stock market today: Stocks close mixed as inve...</td>\n",
       "      <td>Business Insider</td>\n",
       "      <td>2024-09-17T20:17:30Z</td>\n",
       "    </tr>\n",
       "    <tr>\n",
       "      <th>33</th>\n",
       "      <td>The end-of-summer doldrums may be over for bit...</td>\n",
       "      <td>Bitcoin is surging on hopes rate cuts will dri...</td>\n",
       "      <td>Business Insider</td>\n",
       "      <td>2024-09-17T18:08:15Z</td>\n",
       "    </tr>\n",
       "    <tr>\n",
       "      <th>34</th>\n",
       "      <td>Stocks moved higher after stronger-than-expect...</td>\n",
       "      <td>Stock market today: Indexes rise on upbeat ret...</td>\n",
       "      <td>Business Insider</td>\n",
       "      <td>2024-09-17T13:42:33Z</td>\n",
       "    </tr>\n",
       "    <tr>\n",
       "      <th>35</th>\n",
       "      <td>As it turned out, Trump was readily convinced:...</td>\n",
       "      <td>The Trumps Have Gone Full Crypto With World Li...</td>\n",
       "      <td>Wired</td>\n",
       "      <td>2024-09-17T03:22:10Z</td>\n",
       "    </tr>\n",
       "    <tr>\n",
       "      <th>36</th>\n",
       "      <td>Trump is hawking tokens for a crypto project h...</td>\n",
       "      <td>Trump is hawking tokens for a crypto project h...</td>\n",
       "      <td>The Verge</td>\n",
       "      <td>2024-09-17T02:54:09Z</td>\n",
       "    </tr>\n",
       "    <tr>\n",
       "      <th>37</th>\n",
       "      <td>Stocks close mixed on Monday as traders and in...</td>\n",
       "      <td>Stock market today: Indexes close mixed as tec...</td>\n",
       "      <td>Business Insider</td>\n",
       "      <td>2024-09-16T21:42:31Z</td>\n",
       "    </tr>\n",
       "    <tr>\n",
       "      <th>38</th>\n",
       "      <td>US stocks were mixed on Monday ahead of a majo...</td>\n",
       "      <td>Stock market today: Indexes trade mixed as inv...</td>\n",
       "      <td>Business Insider</td>\n",
       "      <td>2024-09-16T13:54:02Z</td>\n",
       "    </tr>\n",
       "    <tr>\n",
       "      <th>39</th>\n",
       "      <td>US stocks jumped on Friday as investors assess...</td>\n",
       "      <td>Stock market today: S&amp;P 500 notches 5-day stre...</td>\n",
       "      <td>Business Insider</td>\n",
       "      <td>2024-09-13T20:09:44Z</td>\n",
       "    </tr>\n",
       "    <tr>\n",
       "      <th>40</th>\n",
       "      <td>US stocks were up on Friday as the S&amp;P 500 and...</td>\n",
       "      <td>Stock market today: S&amp;P 500 goes for 5-day win...</td>\n",
       "      <td>Business Insider</td>\n",
       "      <td>2024-09-13T13:34:36Z</td>\n",
       "    </tr>\n",
       "    <tr>\n",
       "      <th>41</th>\n",
       "      <td>Indexes ended higher on Thursday after the lat...</td>\n",
       "      <td>Stock market today: S&amp;P 500 hits 4-day winning...</td>\n",
       "      <td>Business Insider</td>\n",
       "      <td>2024-09-12T20:10:25Z</td>\n",
       "    </tr>\n",
       "    <tr>\n",
       "      <th>42</th>\n",
       "      <td>No matter who wins the presidency, bitcoin wil...</td>\n",
       "      <td>Bitcoin will surge 117% by year-end if 'crypto...</td>\n",
       "      <td>Business Insider</td>\n",
       "      <td>2024-09-12T14:18:53Z</td>\n",
       "    </tr>\n",
       "    <tr>\n",
       "      <th>43</th>\n",
       "      <td>Indexes edged higher Thursday as investors mul...</td>\n",
       "      <td>Stock market today: Indexes rise as investors ...</td>\n",
       "      <td>Business Insider</td>\n",
       "      <td>2024-09-12T13:46:24Z</td>\n",
       "    </tr>\n",
       "    <tr>\n",
       "      <th>44</th>\n",
       "      <td>US stocks traded mixed on Wednesday, with inve...</td>\n",
       "      <td>Stock market today: Indexes rise as stocks whi...</td>\n",
       "      <td>Business Insider</td>\n",
       "      <td>2024-09-11T20:06:54Z</td>\n",
       "    </tr>\n",
       "    <tr>\n",
       "      <th>45</th>\n",
       "      <td>The first Presidential debate between Kamala H...</td>\n",
       "      <td>The market is acting like Harris won last nigh...</td>\n",
       "      <td>Business Insider</td>\n",
       "      <td>2024-09-11T15:35:29Z</td>\n",
       "    </tr>\n",
       "    <tr>\n",
       "      <th>46</th>\n",
       "      <td>US stocks traded mixed on Wednesday as investo...</td>\n",
       "      <td>Stock market today: Stocks fall as annual infl...</td>\n",
       "      <td>Business Insider</td>\n",
       "      <td>2024-09-11T13:47:44Z</td>\n",
       "    </tr>\n",
       "    <tr>\n",
       "      <th>47</th>\n",
       "      <td>The previous October, Sawicky organized a week...</td>\n",
       "      <td>The World’s Biggest Bitcoin Mine Is Rattling T...</td>\n",
       "      <td>Wired</td>\n",
       "      <td>2024-09-11T10:00:00Z</td>\n",
       "    </tr>\n",
       "    <tr>\n",
       "      <th>48</th>\n",
       "      <td>US stocks ended mixed Tuesday ahead of the Aug...</td>\n",
       "      <td>Stock market today: Indexes end mixed as inves...</td>\n",
       "      <td>Business Insider</td>\n",
       "      <td>2024-09-10T20:26:21Z</td>\n",
       "    </tr>\n",
       "    <tr>\n",
       "      <th>49</th>\n",
       "      <td>US stocks were up on Tuesday, with investors l...</td>\n",
       "      <td>Stock market today: Indexes rise as traders ey...</td>\n",
       "      <td>Business Insider</td>\n",
       "      <td>2024-09-10T13:46:34Z</td>\n",
       "    </tr>\n",
       "    <tr>\n",
       "      <th>50</th>\n",
       "      <td>Patrick Semansky/AP Images; Chip Somodevilla/G...</td>\n",
       "      <td>Harris and Trump face off for the first time t...</td>\n",
       "      <td>Business Insider</td>\n",
       "      <td>2024-09-10T12:54:00Z</td>\n",
       "    </tr>\n",
       "    <tr>\n",
       "      <th>51</th>\n",
       "      <td>US stocks staged a rebound on Monday from last...</td>\n",
       "      <td>Stock market today: Dow jumps 484 points as US...</td>\n",
       "      <td>Business Insider</td>\n",
       "      <td>2024-09-09T20:11:26Z</td>\n",
       "    </tr>\n",
       "    <tr>\n",
       "      <th>52</th>\n",
       "      <td>Bitcoin ETFs saw the longest stretch of outflo...</td>\n",
       "      <td>Bitcoin ETFs lost $1.2 billion in 8 days as ma...</td>\n",
       "      <td>Business Insider</td>\n",
       "      <td>2024-09-09T20:06:10Z</td>\n",
       "    </tr>\n",
       "    <tr>\n",
       "      <th>53</th>\n",
       "      <td>Owning bitcoin may be the latest example of a ...</td>\n",
       "      <td>Bitcoin prices will soar 59% to $90,000 by the...</td>\n",
       "      <td>Business Insider</td>\n",
       "      <td>2024-09-09T19:07:08Z</td>\n",
       "    </tr>\n",
       "    <tr>\n",
       "      <th>54</th>\n",
       "      <td>US stocks traded higher on Monday as investors...</td>\n",
       "      <td>Stock market today: US stocks rise as traders ...</td>\n",
       "      <td>Business Insider</td>\n",
       "      <td>2024-09-09T13:42:00Z</td>\n",
       "    </tr>\n",
       "  </tbody>\n",
       "</table>\n",
       "</div>"
      ],
      "text/plain": [
       "                                              content  \\\n",
       "0   US stocks surged about 1% on Friday after the ...   \n",
       "1   US stocks surged on Friday after the September...   \n",
       "2   Markets closed lower on Thursday amid rising f...   \n",
       "3   The big boys want in on crypto, too\\r\\nThe big...   \n",
       "4   US stocks inched lower on Thursday, fueled by ...   \n",
       "5   US stocks ended slightly higher on Wednesday a...   \n",
       "6   US stocks dropped Wednesday as traders continu...   \n",
       "7   Stock indexes dropped on Tuesday as escalating...   \n",
       "8   Major stock indexes slid on Tuesday to kick of...   \n",
       "9   Paid non-client promotion: Affiliate links for...   \n",
       "10  US stocks rose on Monday, with the Dow and S&P...   \n",
       "11  US stocks edged lower on Monday as investors p...   \n",
       "12  US stocks were mixed on Friday, with the Dow J...   \n",
       "13  Celebrities partnering with watch brands is no...   \n",
       "14  US stocks rose on Friday after cool inflation ...   \n",
       "15  US stocks climbed on Thursday amid positive ec...   \n",
       "16  US stocks rallied on Thursday, fueled by China...   \n",
       "17  US stocks were mostly lower on Wednesday, endi...   \n",
       "18  US stocks were mostly flat on Wednesday as tra...   \n",
       "19  US stocks kept up their winning streak on Tues...   \n",
       "20  Stocks on Tuesday extended a winning streak th...   \n",
       "21  US stocks gained on Monday with the Dow Jones ...   \n",
       "22  Last month, venture capitalist Balaji Srinivas...   \n",
       "23  US stocks rose on Monday, with the S&P 500 and...   \n",
       "24  The week was dominated by news that thousands ...   \n",
       "25  US stocks closed mostly lower on Friday, but f...   \n",
       "26  US stocks traded sightly lower on Friday as in...   \n",
       "27  Major stock indexes surged to record highs on ...   \n",
       "28  US stocks soared on Thursday in a late reactio...   \n",
       "29  The muddy trail levels out and we stop to catc...   \n",
       "30  US stocks rose on Wednesday as traders readied...   \n",
       "31  Not long ago, Monica Cotelingham found herself...   \n",
       "32  Indexes were mixed on Tuesday with investors s...   \n",
       "33  The end-of-summer doldrums may be over for bit...   \n",
       "34  Stocks moved higher after stronger-than-expect...   \n",
       "35  As it turned out, Trump was readily convinced:...   \n",
       "36  Trump is hawking tokens for a crypto project h...   \n",
       "37  Stocks close mixed on Monday as traders and in...   \n",
       "38  US stocks were mixed on Monday ahead of a majo...   \n",
       "39  US stocks jumped on Friday as investors assess...   \n",
       "40  US stocks were up on Friday as the S&P 500 and...   \n",
       "41  Indexes ended higher on Thursday after the lat...   \n",
       "42  No matter who wins the presidency, bitcoin wil...   \n",
       "43  Indexes edged higher Thursday as investors mul...   \n",
       "44  US stocks traded mixed on Wednesday, with inve...   \n",
       "45  The first Presidential debate between Kamala H...   \n",
       "46  US stocks traded mixed on Wednesday as investo...   \n",
       "47  The previous October, Sawicky organized a week...   \n",
       "48  US stocks ended mixed Tuesday ahead of the Aug...   \n",
       "49  US stocks were up on Tuesday, with investors l...   \n",
       "50  Patrick Semansky/AP Images; Chip Somodevilla/G...   \n",
       "51  US stocks staged a rebound on Monday from last...   \n",
       "52  Bitcoin ETFs saw the longest stretch of outflo...   \n",
       "53  Owning bitcoin may be the latest example of a ...   \n",
       "54  US stocks traded higher on Monday as investors...   \n",
       "\n",
       "                                title_and_description            source  \\\n",
       "0   Stock market today: US stocks notch 4-week win...  Business Insider   \n",
       "1   Stock market today: US stocks jump after blowo...  Business Insider   \n",
       "2   Stock market today: Indexes fall, oil surges o...  Business Insider   \n",
       "3   The big boys want in on crypto, too Visa, PayP...         The Verge   \n",
       "4   Stock markets today: Indexes slip as jobless c...  Business Insider   \n",
       "5   Stock market today: US stocks edge up amid Mid...  Business Insider   \n",
       "6   Stock market today: Indexes extend losses as t...  Business Insider   \n",
       "7   Stocks tumble, oil spikes as Mideast tensions ...  Business Insider   \n",
       "8   Stock market today: Indexes slide as investors...  Business Insider   \n",
       "9   Putting some retirement savings in bitcoin mig...  Business Insider   \n",
       "10  Stock market today: US indexes edge higher to ...  Business Insider   \n",
       "11  Stock market today: US indexes drop as investo...  Business Insider   \n",
       "12  Stock market today: Dow hits record high, stoc...  Business Insider   \n",
       "13  Trump's $100,000 Watches Are the Most Tragic C...             Wired   \n",
       "14  Stock market today: US indexes gain after soft...  Business Insider   \n",
       "15  Stock market today: S&P 500 notches fresh high...  Business Insider   \n",
       "16  Stock market today: Indexes rally on China sti...  Business Insider   \n",
       "17  Stock market today: Dow, S&P 500 drop as rally...  Business Insider   \n",
       "18  Stock market today: Indexes trade mixed as rec...  Business Insider   \n",
       "19  Stock market today: New record highs as Nvidia...  Business Insider   \n",
       "20  Stock market today: Indexes add to records as ...  Business Insider   \n",
       "21  Stock market today: Dow ends at a record high ...  Business Insider   \n",
       "22  A Mysterious School for the Network State Crow...             Wired   \n",
       "23  Stock market today: Indexes extend gains as in...  Business Insider   \n",
       "24  Iranian Hackers Tried to Give Hacked Trump Cam...             Wired   \n",
       "25  Stock market today: US stocks end mixed but fi...  Business Insider   \n",
       "26  Stock market today: Indexes edge down as trade...  Business Insider   \n",
       "27  Stock market today: Indexes close at record hi...  Business Insider   \n",
       "28  Stock market today: Dow surges 462 points as s...  Business Insider   \n",
       "29  A Game Designer Just Hid a Gold Trophy in the ...             Wired   \n",
       "30  Stock market today: Indexes edge up ahead of m...  Business Insider   \n",
       "31  Welcome to the Golden Age of Scams Why you're ...              Time   \n",
       "32  Stock market today: Stocks close mixed as inve...  Business Insider   \n",
       "33  Bitcoin is surging on hopes rate cuts will dri...  Business Insider   \n",
       "34  Stock market today: Indexes rise on upbeat ret...  Business Insider   \n",
       "35  The Trumps Have Gone Full Crypto With World Li...             Wired   \n",
       "36  Trump is hawking tokens for a crypto project h...         The Verge   \n",
       "37  Stock market today: Indexes close mixed as tec...  Business Insider   \n",
       "38  Stock market today: Indexes trade mixed as inv...  Business Insider   \n",
       "39  Stock market today: S&P 500 notches 5-day stre...  Business Insider   \n",
       "40  Stock market today: S&P 500 goes for 5-day win...  Business Insider   \n",
       "41  Stock market today: S&P 500 hits 4-day winning...  Business Insider   \n",
       "42  Bitcoin will surge 117% by year-end if 'crypto...  Business Insider   \n",
       "43  Stock market today: Indexes rise as investors ...  Business Insider   \n",
       "44  Stock market today: Indexes rise as stocks whi...  Business Insider   \n",
       "45  The market is acting like Harris won last nigh...  Business Insider   \n",
       "46  Stock market today: Stocks fall as annual infl...  Business Insider   \n",
       "47  The World’s Biggest Bitcoin Mine Is Rattling T...             Wired   \n",
       "48  Stock market today: Indexes end mixed as inves...  Business Insider   \n",
       "49  Stock market today: Indexes rise as traders ey...  Business Insider   \n",
       "50  Harris and Trump face off for the first time t...  Business Insider   \n",
       "51  Stock market today: Dow jumps 484 points as US...  Business Insider   \n",
       "52  Bitcoin ETFs lost $1.2 billion in 8 days as ma...  Business Insider   \n",
       "53  Bitcoin prices will soar 59% to $90,000 by the...  Business Insider   \n",
       "54  Stock market today: US stocks rise as traders ...  Business Insider   \n",
       "\n",
       "            published_at  \n",
       "0   2024-10-04T20:10:21Z  \n",
       "1   2024-10-04T13:42:52Z  \n",
       "2   2024-10-03T20:11:36Z  \n",
       "3   2024-10-03T19:32:35Z  \n",
       "4   2024-10-03T13:37:41Z  \n",
       "5   2024-10-02T20:08:12Z  \n",
       "6   2024-10-02T13:41:48Z  \n",
       "7   2024-10-01T20:31:47Z  \n",
       "8   2024-10-01T13:50:30Z  \n",
       "9   2024-10-01T12:42:02Z  \n",
       "10  2024-09-30T20:23:04Z  \n",
       "11  2024-09-30T13:54:39Z  \n",
       "12  2024-09-27T20:28:13Z  \n",
       "13  2024-09-27T17:48:08Z  \n",
       "14  2024-09-27T13:59:45Z  \n",
       "15  2024-09-26T20:18:43Z  \n",
       "16  2024-09-26T14:14:14Z  \n",
       "17  2024-09-25T20:06:16Z  \n",
       "18  2024-09-25T13:47:07Z  \n",
       "19  2024-09-24T20:24:46Z  \n",
       "20  2024-09-24T13:47:26Z  \n",
       "21  2024-09-23T20:08:46Z  \n",
       "22  2024-09-23T17:20:49Z  \n",
       "23  2024-09-23T13:48:10Z  \n",
       "24  2024-09-21T10:30:00Z  \n",
       "25  2024-09-20T20:07:48Z  \n",
       "26  2024-09-20T13:49:13Z  \n",
       "27  2024-09-19T20:14:33Z  \n",
       "28  2024-09-19T13:51:24Z  \n",
       "29  2024-09-19T10:00:00Z  \n",
       "30  2024-09-18T13:32:56Z  \n",
       "31  2024-09-18T11:00:00Z  \n",
       "32  2024-09-17T20:17:30Z  \n",
       "33  2024-09-17T18:08:15Z  \n",
       "34  2024-09-17T13:42:33Z  \n",
       "35  2024-09-17T03:22:10Z  \n",
       "36  2024-09-17T02:54:09Z  \n",
       "37  2024-09-16T21:42:31Z  \n",
       "38  2024-09-16T13:54:02Z  \n",
       "39  2024-09-13T20:09:44Z  \n",
       "40  2024-09-13T13:34:36Z  \n",
       "41  2024-09-12T20:10:25Z  \n",
       "42  2024-09-12T14:18:53Z  \n",
       "43  2024-09-12T13:46:24Z  \n",
       "44  2024-09-11T20:06:54Z  \n",
       "45  2024-09-11T15:35:29Z  \n",
       "46  2024-09-11T13:47:44Z  \n",
       "47  2024-09-11T10:00:00Z  \n",
       "48  2024-09-10T20:26:21Z  \n",
       "49  2024-09-10T13:46:34Z  \n",
       "50  2024-09-10T12:54:00Z  \n",
       "51  2024-09-09T20:11:26Z  \n",
       "52  2024-09-09T20:06:10Z  \n",
       "53  2024-09-09T19:07:08Z  \n",
       "54  2024-09-09T13:42:00Z  "
      ]
     },
     "execution_count": 55,
     "metadata": {},
     "output_type": "execute_result"
    }
   ],
   "source": [
    "news_df"
   ]
  },
  {
   "cell_type": "markdown",
   "id": "7a6a4fa4-9811-4613-bd87-fbc6abbf43ef",
   "metadata": {},
   "source": [
    "Добавляем новые столбцы данных для результатов моделей"
   ]
  },
  {
   "cell_type": "code",
   "execution_count": 56,
   "id": "47c1c556-77fe-4fb0-9b17-6cbfb59536e3",
   "metadata": {},
   "outputs": [],
   "source": [
    "news_df[\"cryptobert_embedding\"] = pd.Series([[] for _ in range(len(news_df))], dtype=object)\n",
    "\n",
    "news_df[\"cryptobert_content_sentiment\"] = \"\"\n",
    "news_df[\"cryptobert_content_score\"] = np.nan\n",
    "news_df[\"cryptobert_title_and_description_sentiment\"] = \"\"\n",
    "news_df[\"cryptobert_title_and_description_score\"] = np.nan\n",
    "\n",
    "news_df[\"finbert_content_sentiment\"] = \"\"\n",
    "news_df[\"finbert_content_score\"] = np.nan\n",
    "news_df[\"finbert_title_and_description_sentiment\"] = \"\"\n",
    "news_df[\"finbert_title_and_description_score\"] = np.nan\n",
    "\n",
    "news_df[\"Llama-3-8B_content_sentiment\"] = \"\"\n",
    "news_df[\"Llama-3-8B_content_score\"] = np.nan\n",
    "news_df[\"Llama-3-8B_title_and_description_sentiment\"] = \"\"\n",
    "news_df[\"Llama-3-8B_title_and_description_score\"] = np.nan\n",
    "\n",
    "news_df[\"Llama-3.2-3B_content_sentiment\"] = \"\"\n",
    "news_df[\"Llama-3.2-3B_content_score\"] = np.nan\n",
    "news_df[\"Llama-3.2-3B_title_and_description_sentiment\"] = \"\"\n",
    "news_df[\"Llama-3.2-3B_title_and_description_score\"] = np.nan\n",
    "\n",
    "news_df[\"Phi-3.5-mini_content_sentiment\"] = \"\"\n",
    "news_df[\"Phi-3.5-mini_content_score\"] = np.nan\n",
    "news_df[\"Phi-3.5-mini_title_and_description_sentiment\"] = \"\"\n",
    "news_df[\"Phi-3.5-mini_title_and_description_score\"] = np.nan\n",
    "\n",
    "news_df[\"Mistral-7B-v0.3_content_sentiment\"] = \"\"\n",
    "news_df[\"Mistral-7B-v0.3_content_score\"] = np.nan\n",
    "news_df[\"Mistral-7B-v0.3_title_and_description_sentiment\"] = \"\"\n",
    "news_df[\"Mistral-7B-v0.3_title_and_description_score\"] = np.nan\n",
    "\n",
    "news_df[\"Gemma-2-27b_content_sentiment\"] = \"\"\n",
    "news_df[\"Gemma-2-27b_content_score\"] = np.nan\n",
    "news_df[\"Gemma-2-27b_title_and_description_sentiment\"] = \"\"\n",
    "news_df[\"Gemma-2-27b_title_and_description_score\"] = np.nan\n",
    "\n",
    "news_df[\"Mistral-8x7B-v0.1_content_sentiment\"] = \"\"\n",
    "news_df[\"Mistral-8x7B-v0.1_content_score\"] = np.nan\n",
    "news_df[\"Mistral-8x7B-v0.1_title_and_description_sentiment\"] = \"\"\n",
    "news_df[\"Mistral-8x7B-v0.1_title_and_description_score\"] = np.nan"
   ]
  },
  {
   "cell_type": "code",
   "execution_count": 57,
   "id": "2c1185c4-4f5a-458c-8595-af1c803f2774",
   "metadata": {},
   "outputs": [
    {
     "data": {
      "text/plain": [
       "Index(['content', 'title_and_description', 'source', 'published_at',\n",
       "       'cryptobert_embedding', 'cryptobert_content_sentiment',\n",
       "       'cryptobert_content_score',\n",
       "       'cryptobert_title_and_description_sentiment',\n",
       "       'cryptobert_title_and_description_score', 'finbert_content_sentiment',\n",
       "       'finbert_content_score', 'finbert_title_and_description_sentiment',\n",
       "       'finbert_title_and_description_score', 'Llama-3-8B_content_sentiment',\n",
       "       'Llama-3-8B_content_score',\n",
       "       'Llama-3-8B_title_and_description_sentiment',\n",
       "       'Llama-3-8B_title_and_description_score',\n",
       "       'Llama-3.2-3B_content_sentiment', 'Llama-3.2-3B_content_score',\n",
       "       'Llama-3.2-3B_title_and_description_sentiment',\n",
       "       'Llama-3.2-3B_title_and_description_score',\n",
       "       'Phi-3.5-mini_content_sentiment', 'Phi-3.5-mini_content_score',\n",
       "       'Phi-3.5-mini_title_and_description_sentiment',\n",
       "       'Phi-3.5-mini_title_and_description_score',\n",
       "       'Mistral-7B-v0.3_content_sentiment', 'Mistral-7B-v0.3_content_score',\n",
       "       'Mistral-7B-v0.3_title_and_description_sentiment',\n",
       "       'Mistral-7B-v0.3_title_and_description_score',\n",
       "       'Gemma-2-27b_content_sentiment', 'Gemma-2-27b_content_score',\n",
       "       'Gemma-2-27b_title_and_description_sentiment',\n",
       "       'Gemma-2-27b_title_and_description_score',\n",
       "       'Mistral-8x7B-v0.1_content_sentiment',\n",
       "       'Mistral-8x7B-v0.1_content_score',\n",
       "       'Mistral-8x7B-v0.1_title_and_description_sentiment',\n",
       "       'Mistral-8x7B-v0.1_title_and_description_score'],\n",
       "      dtype='object')"
      ]
     },
     "execution_count": 57,
     "metadata": {},
     "output_type": "execute_result"
    }
   ],
   "source": [
    "news_df.columns"
   ]
  },
  {
   "cell_type": "markdown",
   "id": "33b75ce2-0aab-472c-9933-b70084e08f6f",
   "metadata": {},
   "source": [
    "# Обработка тектовых данных"
   ]
  },
  {
   "cell_type": "markdown",
   "id": "a6a1a056-777d-434f-9ad4-bc5188882ab7",
   "metadata": {},
   "source": [
    "## Подготовка моделей"
   ]
  },
  {
   "cell_type": "code",
   "execution_count": 178,
   "id": "507c766d-4507-4de0-9773-d7238d057e45",
   "metadata": {},
   "outputs": [],
   "source": [
    "HUGGINGFACE_KEY = os.getenv('HUGGINGFACE_KEY')\n",
    "\n",
    "client = InferenceClient(api_key=HUGGINGFACE_KEY)"
   ]
  },
  {
   "cell_type": "code",
   "execution_count": 58,
   "id": "b4026f3f-956f-410f-b779-46b5c24a9458",
   "metadata": {},
   "outputs": [],
   "source": [
    "LLM_PROMT = f\"\"\"Conduct a sentiment analysis of the following news story and provide a response in the following format:\n",
    "\n",
    "- **Tonality**: Positive/Negative/Neutral\n",
    "- **Confidence**: a number between 0 and 1\n",
    "\n",
    "*Do not write anything other than these pauncts*\n",
    "\n",
    "News text: \"\"\" # Здесб юудет даписываться текст новости"
   ]
  },
  {
   "cell_type": "code",
   "execution_count": 59,
   "id": "14943770-8248-4389-93af-1d61a294beed",
   "metadata": {},
   "outputs": [],
   "source": [
    "HUGGINGFACE_MODELS = [\n",
    "    \"meta-llama/Meta-Llama-3-8B-Instruct\",\n",
    "    \"meta-llama/Llama-3.2-3B-Instruct\",\n",
    "    \"microsoft/Phi-3.5-mini-instruct\",\n",
    "    \"mistralai/Mistral-7B-Instruct-v0.3\",\n",
    "    \"google/gemma-2-27b-it\",\n",
    "    \"mistralai/Mixtral-8x7B-Instruct-v0.1\"\n",
    "]"
   ]
  },
  {
   "cell_type": "markdown",
   "id": "af62f60a-2ff2-42a8-819a-74a81b3d1076",
   "metadata": {},
   "source": [
    "### CryptoBERT"
   ]
  },
  {
   "cell_type": "code",
   "execution_count": 60,
   "id": "c176bc67-6420-43fc-9305-6933c2de2069",
   "metadata": {},
   "outputs": [
    {
     "name": "stderr",
     "output_type": "stream",
     "text": [
      "/usr/local/lib/python3.11/site-packages/transformers/tokenization_utils_base.py:1617: FutureWarning: `clean_up_tokenization_spaces` was not set. It will be set to `True` by default. This behavior will be deprecated in transformers v4.45, and will be then set to `False` by default. For more details check this issue: https://github.com/huggingface/transformers/issues/31884\n",
      "  warnings.warn(\n"
     ]
    }
   ],
   "source": [
    "cryptobert_name = \"ElKulako/cryptobert\"\n",
    "\n",
    "cryptobert_tokenizer = AutoTokenizer.from_pretrained(cryptobert_name, use_fast=True)\n",
    "cryptobert = AutoModelForSequenceClassification.from_pretrained(cryptobert_name, num_labels=3, output_hidden_states=True)\n",
    "cryptobert_pipe = TextClassificationPipeline(model=cryptobert, tokenizer=cryptobert_tokenizer, max_length=64, truncation=True, padding='max_length')"
   ]
  },
  {
   "cell_type": "code",
   "execution_count": 61,
   "id": "9f9aaa65-b9fd-4b7c-844c-400d0c22faf0",
   "metadata": {},
   "outputs": [],
   "source": [
    "def cryptobert_sentiment_calculate(news_text):\n",
    "    global cryptobert_pipe\n",
    "    \n",
    "    preds = cryptobert_pipe(news_text)\n",
    "\n",
    "    if preds[0]['label'] == \"Bullish\":\n",
    "        preds = [{\"score\": preds[0][\"score\"], \"label\": \"Positive\"}]\n",
    "    elif preds[0]['label'] == \"Bearish\":\n",
    "        preds = [{\"score\": preds[0][\"score\"], \"label\": \"Negative\"}]\n",
    "\n",
    "    return preds"
   ]
  },
  {
   "cell_type": "code",
   "execution_count": 62,
   "id": "e2773479-14bd-4053-b56e-bacad1249ae0",
   "metadata": {},
   "outputs": [],
   "source": [
    "def cryptobert_sentiment_embedding_calculate(news_text):\n",
    "    global cryptobert_tokenizer, cryptobert\n",
    "    \n",
    "    inputs = cryptobert_tokenizer(\n",
    "        [news_text],\n",
    "        padding=True,\n",
    "        truncation=True,\n",
    "        max_length=64,\n",
    "        return_tensors=\"pt\"\n",
    "    )\n",
    "\n",
    "    with torch.no_grad():\n",
    "        outputs = cryptobert(**inputs)\n",
    "        hidden_states = outputs.hidden_states\n",
    "    \n",
    "    last_hidden_state = hidden_states[-1]\n",
    "    embedding = last_hidden_state[:, 0, :][0]\n",
    "\n",
    "    return embedding"
   ]
  },
  {
   "cell_type": "markdown",
   "id": "67f583ae-99b5-4a84-9f0f-8ee2b0b6fade",
   "metadata": {},
   "source": [
    "### FinBERT"
   ]
  },
  {
   "cell_type": "code",
   "execution_count": 63,
   "id": "d3aba11c-7c9c-45f8-abc4-4ad265c946d9",
   "metadata": {},
   "outputs": [],
   "source": [
    "finbert_name = \"yiyanghkust/finbert-tone\"\n",
    "\n",
    "finbert_tokenizer = AutoTokenizer.from_pretrained(finbert_name, use_fast=True)\n",
    "finbert = AutoModelForSequenceClassification.from_pretrained(finbert_name, num_labels = 3)\n",
    "finbert_pipe = TextClassificationPipeline(model=finbert, tokenizer=finbert_tokenizer, max_length=64, truncation=True, padding='max_length')"
   ]
  },
  {
   "cell_type": "code",
   "execution_count": 64,
   "id": "72860b94-897d-40ef-bb07-274f52f96b29",
   "metadata": {},
   "outputs": [],
   "source": [
    "def finbert_sentiment_calculate(news_text):\n",
    "    global finbert_pipe\n",
    "    \n",
    "    preds = finbert_pipe(news_text)\n",
    "\n",
    "    return(preds)"
   ]
  },
  {
   "cell_type": "markdown",
   "id": "8a910c75-2565-46ff-81a9-0cbe3e2d37f4",
   "metadata": {},
   "source": [
    "### LLMs"
   ]
  },
  {
   "cell_type": "code",
   "execution_count": 65,
   "id": "3e832296-a56d-4004-890b-795495a44136",
   "metadata": {},
   "outputs": [],
   "source": [
    "def timeout(seconds, fallback=None):\n",
    "    \"\"\"\n",
    "    ВНИМАНИЕ! ЭТА ФУНКЦИЯ РАБОТАЕТ ТОЛЬКО НА UNIX СИСТЕМАХ\n",
    "    \"\"\"\n",
    "    def decorator(func):\n",
    "        def _handle_timeout(signum, frame):\n",
    "            raise Exception(f\"Функция {func.__name__} превысила лимит времени в {seconds} секунд\")\n",
    "        \n",
    "        @wraps(func)\n",
    "        def wrapper(*args, **kwargs):\n",
    "            # Устанавливаем обработчик сигнала\n",
    "            signal.signal(signal.SIGALRM, _handle_timeout)\n",
    "            # Запускаем таймер\n",
    "            signal.alarm(seconds)\n",
    "            try:\n",
    "                result = func(*args, **kwargs)\n",
    "            except Exception as error:\n",
    "                print(\"Откат по fallback\")\n",
    "                print(error)\n",
    "                return fallback\n",
    "            finally:\n",
    "                # Отключаем сигнал\n",
    "                signal.alarm(0)\n",
    "            return result\n",
    "        return wrapper\n",
    "    return decorator"
   ]
  },
  {
   "cell_type": "code",
   "execution_count": 66,
   "id": "4b1217bd-15d7-4bde-ae94-6db132108122",
   "metadata": {},
   "outputs": [],
   "source": [
    "def extract_data_from_llm_response(text):\n",
    "    tonality_pattern = r'\\*\\*(Tonality|Sentiment)\\*\\*:\\s*\\/?([A-Za-z]+)'\n",
    "    confidence_pattern = r'\\*\\*Confidence\\*\\*:\\s*([0-9.]+)'\n",
    "\n",
    "    tonality_match = re.search(tonality_pattern, text)\n",
    "    confidence_match = re.search(confidence_pattern, text)\n",
    "    \n",
    "    tonality = tonality_match.group(2) if tonality_match else None\n",
    "    confidence = float(confidence_match.group(1)) if confidence_match else None\n",
    "    \n",
    "    return {\n",
    "        'label': tonality,\n",
    "        'score': confidence\n",
    "    }"
   ]
  },
  {
   "cell_type": "code",
   "execution_count": 186,
   "id": "cb12ac97-74df-41b8-89b2-8626a00765cd",
   "metadata": {},
   "outputs": [],
   "source": [
    "@timeout(\n",
    "    seconds=30,\n",
    "    fallback=({'label': 'None', 'score': 0}, '')\n",
    ")\n",
    "def llm_huggingface_sentiment_calculate(news_text, model=\"mistralai/Mistral-7B-Instruct-v0.3\", max_tokens=50, temperature=0.8):\n",
    "    global HUGGINGFACE_MODELS, LLM_PROMT, client\n",
    "    if model not in HUGGINGFACE_MODELS:\n",
    "        raise Exception(\"Нет информации о предоставленной модели\")\n",
    "\n",
    "    try:\n",
    "        content = LLM_PROMT + f'\"{news_text}\"'\n",
    "        llm_promt_result = \"\"\n",
    "    \n",
    "        for message in client.chat_completion(\n",
    "        \tmodel=model,\n",
    "        \tmessages=[{\"role\": \"user\", \"content\": content}],\n",
    "        \tmax_tokens=max_tokens,\n",
    "        \tstream=True,\n",
    "            temperature=temperature\n",
    "        ):\n",
    "            llm_promt_result += message.choices[0].delta.content\n",
    "    \n",
    "        if llm_promt_result == \"\":\n",
    "            return {'label': 'None', 'score': 0}, llm_promt_result\n",
    "        else:\n",
    "            result = extract_data_from_llm_response(llm_promt_result)\n",
    "            if result['score'] is None:\n",
    "                result['score'] = 0\n",
    "            \n",
    "            if result['label'] not in ['Neutral', 'Positive', 'Negative']:\n",
    "                return {'label': 'None', 'score': 0}, llm_promt_result\n",
    "            else:\n",
    "                return result, llm_promt_result\n",
    "    except Exception as error:\n",
    "        raise error"
   ]
  },
  {
   "cell_type": "markdown",
   "id": "64956f82-3e1a-446a-badf-9a9d282b1532",
   "metadata": {},
   "source": [
    "## Работа с данными"
   ]
  },
  {
   "cell_type": "code",
   "execution_count": 137,
   "id": "4a56adac-0f81-4acb-b565-b800e21fe26c",
   "metadata": {},
   "outputs": [],
   "source": [
    "idx = 0"
   ]
  },
  {
   "cell_type": "code",
   "execution_count": 269,
   "id": "d6e6e565-3640-4860-ae4e-657f3900e558",
   "metadata": {},
   "outputs": [
    {
     "name": "stdout",
     "output_type": "stream",
     "text": [
      "114 ms ± 1.85 ms per loop (mean ± std. dev. of 7 runs, 10 loops each)\n"
     ]
    }
   ],
   "source": [
    "%%timeit\n",
    "cryptobert_sentiment_embedding_calculate(news_df.loc[idx, \"title_and_description\"])"
   ]
  },
  {
   "cell_type": "code",
   "execution_count": 270,
   "id": "4f563fdf-2ccb-40b8-b4f2-b6f4de00242b",
   "metadata": {},
   "outputs": [
    {
     "name": "stdout",
     "output_type": "stream",
     "text": [
      "118 ms ± 1.49 ms per loop (mean ± std. dev. of 7 runs, 10 loops each)\n"
     ]
    }
   ],
   "source": [
    "%%timeit\n",
    "cryptobert_sentiment_calculate(news_df.loc[idx, \"title_and_description\"])"
   ]
  },
  {
   "cell_type": "code",
   "execution_count": 271,
   "id": "9074d896-b3c5-44f2-b7dd-ec0d15858f01",
   "metadata": {},
   "outputs": [
    {
     "name": "stdout",
     "output_type": "stream",
     "text": [
      "121 ms ± 4.9 ms per loop (mean ± std. dev. of 7 runs, 10 loops each)\n"
     ]
    }
   ],
   "source": [
    "%%timeit\n",
    "finbert_sentiment_calculate(news_df.loc[idx, \"title_and_description\"])"
   ]
  },
  {
   "cell_type": "code",
   "execution_count": 272,
   "id": "a75e51d1-625c-4afe-a6a3-ff7c2b2b54e3",
   "metadata": {},
   "outputs": [
    {
     "name": "stdout",
     "output_type": "stream",
     "text": [
      "138 ms ± 603 μs per loop (mean ± std. dev. of 7 runs, 10 loops each)\n"
     ]
    }
   ],
   "source": [
    "%%timeit\n",
    "llm_huggingface_sentiment_calculate(news_df.loc[idx, \"title_and_description\"], HUGGINGFACE_MODELS[0])"
   ]
  },
  {
   "cell_type": "code",
   "execution_count": 273,
   "id": "ce1d76a5-0521-4e4a-9e0e-dfadc2812b46",
   "metadata": {},
   "outputs": [
    {
     "name": "stdout",
     "output_type": "stream",
     "text": [
      "138 ms ± 984 μs per loop (mean ± std. dev. of 7 runs, 10 loops each)\n"
     ]
    }
   ],
   "source": [
    "%%timeit\n",
    "llm_huggingface_sentiment_calculate(news_df.loc[idx, \"title_and_description\"], HUGGINGFACE_MODELS[1])"
   ]
  },
  {
   "cell_type": "code",
   "execution_count": 274,
   "id": "0bf99ea2-0e75-4b37-80c1-c1923b4a430e",
   "metadata": {},
   "outputs": [
    {
     "name": "stdout",
     "output_type": "stream",
     "text": [
      "144 ms ± 2.47 ms per loop (mean ± std. dev. of 7 runs, 10 loops each)\n"
     ]
    }
   ],
   "source": [
    "%%timeit\n",
    "llm_huggingface_sentiment_calculate(news_df.loc[idx, \"title_and_description\"], HUGGINGFACE_MODELS[2])"
   ]
  },
  {
   "cell_type": "code",
   "execution_count": 275,
   "id": "9c49771b-c5a4-429a-aaa6-cf00241f04ba",
   "metadata": {},
   "outputs": [
    {
     "name": "stdout",
     "output_type": "stream",
     "text": [
      "143 ms ± 1.24 ms per loop (mean ± std. dev. of 7 runs, 10 loops each)\n"
     ]
    }
   ],
   "source": [
    "%%timeit\n",
    "llm_huggingface_sentiment_calculate(news_df.loc[idx, \"title_and_description\"], HUGGINGFACE_MODELS[3])"
   ]
  },
  {
   "cell_type": "code",
   "execution_count": 276,
   "id": "26a4d7bb-c45f-4b3e-b84d-3861d35ac2ef",
   "metadata": {},
   "outputs": [
    {
     "name": "stdout",
     "output_type": "stream",
     "text": [
      "138 ms ± 703 μs per loop (mean ± std. dev. of 7 runs, 10 loops each)\n"
     ]
    }
   ],
   "source": [
    "%%timeit\n",
    "llm_huggingface_sentiment_calculate(news_df.loc[idx, \"title_and_description\"], HUGGINGFACE_MODELS[4])"
   ]
  },
  {
   "cell_type": "code",
   "execution_count": 277,
   "id": "437b6a1d-4619-4e2e-b71f-0b662f546d12",
   "metadata": {},
   "outputs": [
    {
     "name": "stdout",
     "output_type": "stream",
     "text": [
      "142 ms ± 444 μs per loop (mean ± std. dev. of 7 runs, 10 loops each)\n"
     ]
    }
   ],
   "source": [
    "%%timeit\n",
    "llm_huggingface_sentiment_calculate(news_df.loc[idx, \"title_and_description\"], HUGGINGFACE_MODELS[5])"
   ]
  },
  {
   "cell_type": "code",
   "execution_count": 70,
   "id": "4c2db9db-d4e4-4613-bb1b-cfa77c4ae318",
   "metadata": {
    "scrolled": true
   },
   "outputs": [
    {
     "name": "stderr",
     "output_type": "stream",
     "text": [
      "100%|██████████| 55/55 [09:56<00:00, 10.85s/it]\n"
     ]
    }
   ],
   "source": [
    "embeddings = []\n",
    "\n",
    "for idx in tqdm.tqdm(range(news_df.shape[0])): \n",
    "    embeddings += [cryptobert_sentiment_embedding_calculate(news_df.loc[idx, \"title_and_description\"]).tolist()]\n",
    "    \n",
    "    cryptobert_content = cryptobert_sentiment_calculate(news_df.loc[idx, \"content\"])[0]\n",
    "    cryptobert_title_and_description = cryptobert_sentiment_calculate(news_df.loc[idx, \"title_and_description\"])[0]\n",
    "    news_df.loc[idx, \"cryptobert_content_sentiment\"] = cryptobert_content['label']\n",
    "    news_df.loc[idx, \"cryptobert_content_score\"] = cryptobert_content['score']\n",
    "    news_df.loc[idx, \"cryptobert_title_and_description_sentiment\"] = cryptobert_title_and_description['label']\n",
    "    news_df.loc[idx, \"cryptobert_title_and_description_score\"] = cryptobert_title_and_description['score']\n",
    "\n",
    "    finbert_content = finbert_sentiment_calculate(news_df.loc[idx, \"content\"])[0]\n",
    "    finbert_title_and_description = finbert_sentiment_calculate(news_df.loc[idx, \"title_and_description\"])[0]\n",
    "    news_df.loc[idx, \"finbert_content_sentiment\"] = finbert_content['label']\n",
    "    news_df.loc[idx, \"finbert_content_score\"] = finbert_content['score']\n",
    "    news_df.loc[idx, \"finbert_title_and_description_sentiment\"] = finbert_title_and_description['label']\n",
    "    news_df.loc[idx, \"finbert_title_and_description_score\"] = finbert_title_and_description['score']\n",
    "\n",
    "    llama_3_8B_content = llm_huggingface_sentiment_calculate(news_df.loc[idx, \"content\"], HUGGINGFACE_MODELS[0])[0]\n",
    "    llama_3_8B_title_and_description = llm_huggingface_sentiment_calculate(news_df.loc[idx, \"title_and_description\"], HUGGINGFACE_MODELS[0])[0]\n",
    "    news_df.loc[idx, \"Llama-3-8B_content_sentiment\"] = llama_3_8B_content['label']\n",
    "    news_df.loc[idx, \"Llama-3-8B_content_score\"] = llama_3_8B_content['score']\n",
    "    news_df.loc[idx, \"Llama-3-8B_title_and_description_sentiment\"] = llama_3_8B_title_and_description['label']\n",
    "    news_df.loc[idx, \"Llama-3-8B_title_and_description_score\"] = llama_3_8B_title_and_description['score']\n",
    "    \n",
    "    llama_3_2_3B_content = llm_huggingface_sentiment_calculate(news_df.loc[idx, \"content\"], HUGGINGFACE_MODELS[1])[0]\n",
    "    llama_3_2_3B_title_and_description = llm_huggingface_sentiment_calculate(news_df.loc[idx, \"title_and_description\"], HUGGINGFACE_MODELS[1])[0]\n",
    "    news_df.loc[idx, \"Llama-3.2-3B_content_sentiment\"] = llama_3_2_3B_content['label']\n",
    "    news_df.loc[idx, \"Llama-3.2-3B_content_score\"] = llama_3_2_3B_content['score']\n",
    "    news_df.loc[idx, \"Llama-3.2-3B_title_and_description_sentiment\"] = llama_3_2_3B_title_and_description['label']\n",
    "    news_df.loc[idx, \"Llama-3.2-3B_title_and_description_score\"] = llama_3_2_3B_title_and_description['score']\n",
    "\n",
    "    phi_3_5_mini_content = llm_huggingface_sentiment_calculate(news_df.loc[idx, \"content\"], HUGGINGFACE_MODELS[2])[0]\n",
    "    phi_3_5_mini_title_and_description = llm_huggingface_sentiment_calculate(news_df.loc[idx, \"title_and_description\"], HUGGINGFACE_MODELS[2])[0]\n",
    "    news_df.loc[idx, \"Phi-3.5-mini_content_sentiment\"] = phi_3_5_mini_content['label']\n",
    "    news_df.loc[idx, \"Phi-3.5-mini_content_score\"] = phi_3_5_mini_content['score']\n",
    "    news_df.loc[idx, \"Phi-3.5-mini_title_and_description_sentiment\"] = phi_3_5_mini_title_and_description['label']\n",
    "    news_df.loc[idx, \"Phi-3.5-mini_title_and_description_score\"] = phi_3_5_mini_title_and_description['score']\n",
    "\n",
    "    mistral_7B_v0_3_content = llm_huggingface_sentiment_calculate(news_df.loc[idx, \"content\"], HUGGINGFACE_MODELS[3])[0]\n",
    "    mistral_7B_v0_3_title_and_description = llm_huggingface_sentiment_calculate(news_df.loc[idx, \"title_and_description\"], HUGGINGFACE_MODELS[3])[0]\n",
    "    news_df.loc[idx, \"Mistral-7B-v0.3_content_sentiment\"] = mistral_7B_v0_3_content['label']\n",
    "    news_df.loc[idx, \"Mistral-7B-v0.3_content_score\"] = mistral_7B_v0_3_content['score']\n",
    "    news_df.loc[idx, \"Mistral-7B-v0.3_title_and_description_sentiment\"] = mistral_7B_v0_3_title_and_description['label']\n",
    "    news_df.loc[idx, \"Mistral-7B-v0.3_title_and_description_score\"] = mistral_7B_v0_3_title_and_description['score']\n",
    "\n",
    "    gemma_2_27b_content = llm_huggingface_sentiment_calculate(news_df.loc[idx, \"content\"], HUGGINGFACE_MODELS[4])[0]\n",
    "    gemma_2_27b_title_and_description = llm_huggingface_sentiment_calculate(news_df.loc[idx, \"title_and_description\"], HUGGINGFACE_MODELS[4])[0]\n",
    "    news_df.loc[idx, \"Gemma-2-27b_content_sentiment\"] = gemma_2_27b_content['label']\n",
    "    news_df.loc[idx, \"Gemma-2-27b_content_score\"] = gemma_2_27b_content['score']\n",
    "    news_df.loc[idx, \"Gemma-2-27b_title_and_description_sentiment\"] = gemma_2_27b_title_and_description['label']\n",
    "    news_df.loc[idx, \"Gemma-2-27b_title_and_description_score\"] = gemma_2_27b_title_and_description['score']\n",
    "    \n",
    "    mistral_8x7B_content = llm_huggingface_sentiment_calculate(news_df.loc[idx, \"content\"], HUGGINGFACE_MODELS[5])[0]\n",
    "    mistral_8x7B_title_and_description = llm_huggingface_sentiment_calculate(news_df.loc[idx, \"title_and_description\"], HUGGINGFACE_MODELS[5])[0]\n",
    "    news_df.loc[idx, \"Mistral-8x7B-v0.1_content_sentiment\"] = mistral_8x7B_content['label']\n",
    "    news_df.loc[idx, \"Mistral-8x7B-v0.1_content_score\"] = mistral_8x7B_content['score']\n",
    "    news_df.loc[idx, \"Mistral-8x7B-v0.1_title_and_description_sentiment\"] = mistral_8x7B_title_and_description['label']\n",
    "    news_df.loc[idx, \"Mistral-8x7B-v0.1_title_and_description_score\"] = mistral_8x7B_title_and_description['score']\n",
    "\n",
    "news_df[\"cryptobert_embedding\"] = embeddings\n",
    "\n",
    "clear_output()"
   ]
  },
  {
   "cell_type": "code",
   "execution_count": 71,
   "id": "1e7dd648-8b81-4890-921f-a95e7e589141",
   "metadata": {
    "scrolled": true
   },
   "outputs": [
    {
     "data": {
      "text/html": [
       "<div>\n",
       "<style scoped>\n",
       "    .dataframe tbody tr th:only-of-type {\n",
       "        vertical-align: middle;\n",
       "    }\n",
       "\n",
       "    .dataframe tbody tr th {\n",
       "        vertical-align: top;\n",
       "    }\n",
       "\n",
       "    .dataframe thead th {\n",
       "        text-align: right;\n",
       "    }\n",
       "</style>\n",
       "<table border=\"1\" class=\"dataframe\">\n",
       "  <thead>\n",
       "    <tr style=\"text-align: right;\">\n",
       "      <th></th>\n",
       "      <th>content</th>\n",
       "      <th>title_and_description</th>\n",
       "      <th>source</th>\n",
       "      <th>published_at</th>\n",
       "      <th>cryptobert_embedding</th>\n",
       "      <th>cryptobert_content_sentiment</th>\n",
       "      <th>cryptobert_content_score</th>\n",
       "      <th>cryptobert_title_and_description_sentiment</th>\n",
       "      <th>cryptobert_title_and_description_score</th>\n",
       "      <th>finbert_content_sentiment</th>\n",
       "      <th>...</th>\n",
       "      <th>Mistral-7B-v0.3_title_and_description_sentiment</th>\n",
       "      <th>Mistral-7B-v0.3_title_and_description_score</th>\n",
       "      <th>Gemma-2-27b_content_sentiment</th>\n",
       "      <th>Gemma-2-27b_content_score</th>\n",
       "      <th>Gemma-2-27b_title_and_description_sentiment</th>\n",
       "      <th>Gemma-2-27b_title_and_description_score</th>\n",
       "      <th>Mistral-8x7B-v0.1_content_sentiment</th>\n",
       "      <th>Mistral-8x7B-v0.1_content_score</th>\n",
       "      <th>Mistral-8x7B-v0.1_title_and_description_sentiment</th>\n",
       "      <th>Mistral-8x7B-v0.1_title_and_description_score</th>\n",
       "    </tr>\n",
       "  </thead>\n",
       "  <tbody>\n",
       "    <tr>\n",
       "      <th>0</th>\n",
       "      <td>US stocks surged about 1% on Friday after the ...</td>\n",
       "      <td>Stock market today: US stocks notch 4-week win...</td>\n",
       "      <td>Business Insider</td>\n",
       "      <td>2024-10-04T20:10:21Z</td>\n",
       "      <td>[0.22408461570739746, -0.45151036977767944, 0....</td>\n",
       "      <td>Neutral</td>\n",
       "      <td>0.636737</td>\n",
       "      <td>Positive</td>\n",
       "      <td>0.668114</td>\n",
       "      <td>Positive</td>\n",
       "      <td>...</td>\n",
       "      <td>None</td>\n",
       "      <td>0.0</td>\n",
       "      <td>None</td>\n",
       "      <td>0.00</td>\n",
       "      <td>Positive</td>\n",
       "      <td>0.80</td>\n",
       "      <td>Positive</td>\n",
       "      <td>0.85</td>\n",
       "      <td>Positive</td>\n",
       "      <td>0.80</td>\n",
       "    </tr>\n",
       "    <tr>\n",
       "      <th>1</th>\n",
       "      <td>US stocks surged on Friday after the September...</td>\n",
       "      <td>Stock market today: US stocks jump after blowo...</td>\n",
       "      <td>Business Insider</td>\n",
       "      <td>2024-10-04T13:42:52Z</td>\n",
       "      <td>[0.545271635055542, -0.5789197087287903, -0.08...</td>\n",
       "      <td>Neutral</td>\n",
       "      <td>0.512202</td>\n",
       "      <td>Positive</td>\n",
       "      <td>0.608803</td>\n",
       "      <td>Positive</td>\n",
       "      <td>...</td>\n",
       "      <td>None</td>\n",
       "      <td>0.0</td>\n",
       "      <td>Positive</td>\n",
       "      <td>0.95</td>\n",
       "      <td>None</td>\n",
       "      <td>0.00</td>\n",
       "      <td>Positive</td>\n",
       "      <td>0.90</td>\n",
       "      <td>Neutral</td>\n",
       "      <td>0.60</td>\n",
       "    </tr>\n",
       "    <tr>\n",
       "      <th>2</th>\n",
       "      <td>Markets closed lower on Thursday amid rising f...</td>\n",
       "      <td>Stock market today: Indexes fall, oil surges o...</td>\n",
       "      <td>Business Insider</td>\n",
       "      <td>2024-10-03T20:11:36Z</td>\n",
       "      <td>[0.4440334141254425, -0.35581153631210327, 1.0...</td>\n",
       "      <td>Neutral</td>\n",
       "      <td>0.696073</td>\n",
       "      <td>Neutral</td>\n",
       "      <td>0.903526</td>\n",
       "      <td>Negative</td>\n",
       "      <td>...</td>\n",
       "      <td>None</td>\n",
       "      <td>0.0</td>\n",
       "      <td>None</td>\n",
       "      <td>0.00</td>\n",
       "      <td>Negative</td>\n",
       "      <td>0.85</td>\n",
       "      <td>Negative</td>\n",
       "      <td>0.85</td>\n",
       "      <td>Negative</td>\n",
       "      <td>0.85</td>\n",
       "    </tr>\n",
       "    <tr>\n",
       "      <th>3</th>\n",
       "      <td>The big boys want in on crypto, too\\r\\nThe big...</td>\n",
       "      <td>The big boys want in on crypto, too Visa, PayP...</td>\n",
       "      <td>The Verge</td>\n",
       "      <td>2024-10-03T19:32:35Z</td>\n",
       "      <td>[0.4644468426704407, -0.6201056838035583, 0.12...</td>\n",
       "      <td>Positive</td>\n",
       "      <td>0.746908</td>\n",
       "      <td>Positive</td>\n",
       "      <td>0.662950</td>\n",
       "      <td>Neutral</td>\n",
       "      <td>...</td>\n",
       "      <td>None</td>\n",
       "      <td>0.0</td>\n",
       "      <td>None</td>\n",
       "      <td>0.00</td>\n",
       "      <td>None</td>\n",
       "      <td>0.00</td>\n",
       "      <td>Neutral</td>\n",
       "      <td>0.70</td>\n",
       "      <td>Positive</td>\n",
       "      <td>0.80</td>\n",
       "    </tr>\n",
       "    <tr>\n",
       "      <th>4</th>\n",
       "      <td>US stocks inched lower on Thursday, fueled by ...</td>\n",
       "      <td>Stock markets today: Indexes slip as jobless c...</td>\n",
       "      <td>Business Insider</td>\n",
       "      <td>2024-10-03T13:37:41Z</td>\n",
       "      <td>[0.5597029328346252, -0.2533523440361023, 1.10...</td>\n",
       "      <td>Positive</td>\n",
       "      <td>0.498512</td>\n",
       "      <td>Neutral</td>\n",
       "      <td>0.614407</td>\n",
       "      <td>Positive</td>\n",
       "      <td>...</td>\n",
       "      <td>None</td>\n",
       "      <td>0.0</td>\n",
       "      <td>None</td>\n",
       "      <td>0.00</td>\n",
       "      <td>Negative</td>\n",
       "      <td>0.80</td>\n",
       "      <td>Negative</td>\n",
       "      <td>0.80</td>\n",
       "      <td>Negative</td>\n",
       "      <td>0.80</td>\n",
       "    </tr>\n",
       "  </tbody>\n",
       "</table>\n",
       "<p>5 rows × 37 columns</p>\n",
       "</div>"
      ],
      "text/plain": [
       "                                             content  \\\n",
       "0  US stocks surged about 1% on Friday after the ...   \n",
       "1  US stocks surged on Friday after the September...   \n",
       "2  Markets closed lower on Thursday amid rising f...   \n",
       "3  The big boys want in on crypto, too\\r\\nThe big...   \n",
       "4  US stocks inched lower on Thursday, fueled by ...   \n",
       "\n",
       "                               title_and_description            source  \\\n",
       "0  Stock market today: US stocks notch 4-week win...  Business Insider   \n",
       "1  Stock market today: US stocks jump after blowo...  Business Insider   \n",
       "2  Stock market today: Indexes fall, oil surges o...  Business Insider   \n",
       "3  The big boys want in on crypto, too Visa, PayP...         The Verge   \n",
       "4  Stock markets today: Indexes slip as jobless c...  Business Insider   \n",
       "\n",
       "           published_at                               cryptobert_embedding  \\\n",
       "0  2024-10-04T20:10:21Z  [0.22408461570739746, -0.45151036977767944, 0....   \n",
       "1  2024-10-04T13:42:52Z  [0.545271635055542, -0.5789197087287903, -0.08...   \n",
       "2  2024-10-03T20:11:36Z  [0.4440334141254425, -0.35581153631210327, 1.0...   \n",
       "3  2024-10-03T19:32:35Z  [0.4644468426704407, -0.6201056838035583, 0.12...   \n",
       "4  2024-10-03T13:37:41Z  [0.5597029328346252, -0.2533523440361023, 1.10...   \n",
       "\n",
       "  cryptobert_content_sentiment  cryptobert_content_score  \\\n",
       "0                      Neutral                  0.636737   \n",
       "1                      Neutral                  0.512202   \n",
       "2                      Neutral                  0.696073   \n",
       "3                     Positive                  0.746908   \n",
       "4                     Positive                  0.498512   \n",
       "\n",
       "  cryptobert_title_and_description_sentiment  \\\n",
       "0                                   Positive   \n",
       "1                                   Positive   \n",
       "2                                    Neutral   \n",
       "3                                   Positive   \n",
       "4                                    Neutral   \n",
       "\n",
       "   cryptobert_title_and_description_score finbert_content_sentiment  ...  \\\n",
       "0                                0.668114                  Positive  ...   \n",
       "1                                0.608803                  Positive  ...   \n",
       "2                                0.903526                  Negative  ...   \n",
       "3                                0.662950                   Neutral  ...   \n",
       "4                                0.614407                  Positive  ...   \n",
       "\n",
       "   Mistral-7B-v0.3_title_and_description_sentiment  \\\n",
       "0                                             None   \n",
       "1                                             None   \n",
       "2                                             None   \n",
       "3                                             None   \n",
       "4                                             None   \n",
       "\n",
       "  Mistral-7B-v0.3_title_and_description_score  Gemma-2-27b_content_sentiment  \\\n",
       "0                                         0.0                           None   \n",
       "1                                         0.0                       Positive   \n",
       "2                                         0.0                           None   \n",
       "3                                         0.0                           None   \n",
       "4                                         0.0                           None   \n",
       "\n",
       "  Gemma-2-27b_content_score  Gemma-2-27b_title_and_description_sentiment  \\\n",
       "0                      0.00                                     Positive   \n",
       "1                      0.95                                         None   \n",
       "2                      0.00                                     Negative   \n",
       "3                      0.00                                         None   \n",
       "4                      0.00                                     Negative   \n",
       "\n",
       "  Gemma-2-27b_title_and_description_score  \\\n",
       "0                                    0.80   \n",
       "1                                    0.00   \n",
       "2                                    0.85   \n",
       "3                                    0.00   \n",
       "4                                    0.80   \n",
       "\n",
       "   Mistral-8x7B-v0.1_content_sentiment Mistral-8x7B-v0.1_content_score  \\\n",
       "0                             Positive                            0.85   \n",
       "1                             Positive                            0.90   \n",
       "2                             Negative                            0.85   \n",
       "3                              Neutral                            0.70   \n",
       "4                             Negative                            0.80   \n",
       "\n",
       "   Mistral-8x7B-v0.1_title_and_description_sentiment  \\\n",
       "0                                           Positive   \n",
       "1                                            Neutral   \n",
       "2                                           Negative   \n",
       "3                                           Positive   \n",
       "4                                           Negative   \n",
       "\n",
       "  Mistral-8x7B-v0.1_title_and_description_score  \n",
       "0                                          0.80  \n",
       "1                                          0.60  \n",
       "2                                          0.85  \n",
       "3                                          0.80  \n",
       "4                                          0.80  \n",
       "\n",
       "[5 rows x 37 columns]"
      ]
     },
     "execution_count": 71,
     "metadata": {},
     "output_type": "execute_result"
    }
   ],
   "source": [
    "news_df.head()"
   ]
  },
  {
   "cell_type": "code",
   "execution_count": 72,
   "id": "90fa083d-198f-4aa2-8c3f-b2a7914ad4b2",
   "metadata": {},
   "outputs": [
    {
     "name": "stdout",
     "output_type": "stream",
     "text": [
      "<class 'pandas.core.frame.DataFrame'>\n",
      "RangeIndex: 55 entries, 0 to 54\n",
      "Data columns (total 37 columns):\n",
      " #   Column                                             Non-Null Count  Dtype  \n",
      "---  ------                                             --------------  -----  \n",
      " 0   content                                            55 non-null     object \n",
      " 1   title_and_description                              55 non-null     object \n",
      " 2   source                                             55 non-null     object \n",
      " 3   published_at                                       55 non-null     object \n",
      " 4   cryptobert_embedding                               55 non-null     object \n",
      " 5   cryptobert_content_sentiment                       55 non-null     object \n",
      " 6   cryptobert_content_score                           55 non-null     float64\n",
      " 7   cryptobert_title_and_description_sentiment         55 non-null     object \n",
      " 8   cryptobert_title_and_description_score             55 non-null     float64\n",
      " 9   finbert_content_sentiment                          55 non-null     object \n",
      " 10  finbert_content_score                              55 non-null     float64\n",
      " 11  finbert_title_and_description_sentiment            55 non-null     object \n",
      " 12  finbert_title_and_description_score                55 non-null     float64\n",
      " 13  Llama-3-8B_content_sentiment                       55 non-null     object \n",
      " 14  Llama-3-8B_content_score                           54 non-null     float64\n",
      " 15  Llama-3-8B_title_and_description_sentiment         55 non-null     object \n",
      " 16  Llama-3-8B_title_and_description_score             55 non-null     float64\n",
      " 17  Llama-3.2-3B_content_sentiment                     55 non-null     object \n",
      " 18  Llama-3.2-3B_content_score                         55 non-null     float64\n",
      " 19  Llama-3.2-3B_title_and_description_sentiment       55 non-null     object \n",
      " 20  Llama-3.2-3B_title_and_description_score           55 non-null     float64\n",
      " 21  Phi-3.5-mini_content_sentiment                     55 non-null     object \n",
      " 22  Phi-3.5-mini_content_score                         55 non-null     float64\n",
      " 23  Phi-3.5-mini_title_and_description_sentiment       55 non-null     object \n",
      " 24  Phi-3.5-mini_title_and_description_score           55 non-null     float64\n",
      " 25  Mistral-7B-v0.3_content_sentiment                  55 non-null     object \n",
      " 26  Mistral-7B-v0.3_content_score                      55 non-null     float64\n",
      " 27  Mistral-7B-v0.3_title_and_description_sentiment    55 non-null     object \n",
      " 28  Mistral-7B-v0.3_title_and_description_score        55 non-null     float64\n",
      " 29  Gemma-2-27b_content_sentiment                      55 non-null     object \n",
      " 30  Gemma-2-27b_content_score                          55 non-null     float64\n",
      " 31  Gemma-2-27b_title_and_description_sentiment        55 non-null     object \n",
      " 32  Gemma-2-27b_title_and_description_score            55 non-null     float64\n",
      " 33  Mistral-8x7B-v0.1_content_sentiment                55 non-null     object \n",
      " 34  Mistral-8x7B-v0.1_content_score                    55 non-null     float64\n",
      " 35  Mistral-8x7B-v0.1_title_and_description_sentiment  55 non-null     object \n",
      " 36  Mistral-8x7B-v0.1_title_and_description_score      55 non-null     float64\n",
      "dtypes: float64(16), object(21)\n",
      "memory usage: 16.0+ KB\n"
     ]
    }
   ],
   "source": [
    "news_df.info()"
   ]
  },
  {
   "cell_type": "markdown",
   "id": "2bfbb138-557f-4811-aa0c-17febd454185",
   "metadata": {},
   "source": [
    "## Сохранение результатов"
   ]
  },
  {
   "cell_type": "code",
   "execution_count": 75,
   "id": "06629597-9865-461d-9fc4-3fa272d16cda",
   "metadata": {},
   "outputs": [],
   "source": [
    "news_df.to_json(\"news_df.json\")"
   ]
  },
  {
   "cell_type": "markdown",
   "id": "a200d184-d862-4a73-a444-e009f651a1be",
   "metadata": {},
   "source": [
    "# Анализ результатов и отбор LLM"
   ]
  },
  {
   "cell_type": "code",
   "execution_count": null,
   "id": "b5b06b40-57e4-40e1-8684-3c83b6ea4845",
   "metadata": {},
   "outputs": [],
   "source": [
    "def plot_sentiment_bar(df, column):\n",
    "    df[column].value_counts().plot(kind='bar', figsize=(21, 3))\n",
    "    plt.xlabel('Категория')\n",
    "    plt.show()"
   ]
  },
  {
   "cell_type": "code",
   "execution_count": null,
   "id": "5c539677-2d6c-4fe4-84a3-11da77e06476",
   "metadata": {},
   "outputs": [],
   "source": [
    "def plot_sentiment_bar_for_multiplt_columns(df, columns):\n",
    "    sentiments = []\n",
    "    sentiments_new = []\n",
    "\n",
    "    for column in columns:\n",
    "        sentiments += [df[column].value_counts()]\n",
    "    \n",
    "    for sentiment, column in zip(sentiments, columns):\n",
    "        sentiment_new = sentiment.rename_axis('sentiment').reset_index(name='count')\n",
    "        sentiment_new['col'] = column\n",
    "        sentiments_new += [sentiment_new]\n",
    "\n",
    "    combined_sentiments = pd.concat(sentiments_new, ignore_index=True)    \n",
    "    pivot_df = combined_sentiments.pivot_table(index='col', columns='sentiment', values='count', fill_value=0)\n",
    "\n",
    "    pivot_df.plot(kind='bar', figsize=(21, 3))\n",
    "    plt.xticks(rotation=0)\n",
    "    plt.xlabel('Категория')\n",
    "    \n",
    "    plt.show()"
   ]
  },
  {
   "cell_type": "code",
   "execution_count": null,
   "id": "5401080d-6c72-4e92-94d4-b25cd807a26d",
   "metadata": {},
   "outputs": [],
   "source": [
    "SENTIMENT_MODELS_COLUMNS = {\n",
    "    \"CryptoBERT_sentiment\": [\"cryptobert_content_sentiment\", \"cryptobert_title_and_description_sentiment\"],\n",
    "    \"CryptoBERT_score\": [\"cryptobert_content_score\", \"cryptobert_title_and_description_score\"],\n",
    "    \"FinBERT_sentiment\": [\"finbert_content_sentiment\", \"finbert_title_and_description_sentiment\"],\n",
    "    \"FinBERT_score\": [\"finbert_content_score\", \"finbert_title_and_description_score\"],\n",
    "    \"Llama-3-8B_sentiment\": [\"Llama-3-8B_content_sentiment\", \"Llama-3-8B_title_and_description_sentiment\"],\n",
    "    \"Llama-3-8B_score\": [\"Llama-3-8B_content_score\", \"Llama-3-8B_title_and_description_score\"],\n",
    "    \"Llama-3.2-3B_sentiment\": [\"Llama-3.2-3B_content_sentiment\", \"Llama-3.2-3B_title_and_description_sentiment\"],\n",
    "    \"Llama-3.2-3B_score\": [\"Llama-3.2-3B_content_score\", \"Llama-3.2-3B_title_and_description_score\"],\n",
    "    \"Phi-3.5-mini_sentiment\": [\"Phi-3.5-mini_content_sentiment\", \"Phi-3.5-mini_title_and_description_sentiment\"],\n",
    "    \"Phi-3.5-mini_score\": [\"Phi-3.5-mini_content_score\", \"Phi-3.5-mini_title_and_description_score\"],\n",
    "    \"Mistral-7B-v0.3_sentiment\": [\"Mistral-7B-v0.3_content_sentiment\", \"Mistral-7B-v0.3_title_and_description_sentiment\"],\n",
    "    \"Mistral-7B-v0.3_score\": [\"Mistral-7B-v0.3_content_score\", \"Mistral-7B-v0.3_title_and_description_score\"],\n",
    "    \"Gemma-2-27b_sentiment\": [\"Gemma-2-27b_content_sentiment\", \"Gemma-2-27b_title_and_description_sentiment\"],\n",
    "    \"Gemma-2-27b_score\": [\"Gemma-2-27b_content_score\", \"emma-2-27b_title_and_description_score\"],\n",
    "    \"Mistral-8x7B-v0.1_sentiment\": [\"Mistral-8x7B-v0.1_content_sentiment\", \"Mistral-8x7B-v0.1_title_and_description_sentiment\"],\n",
    "    \"Mistral-8x7B-v0.1_score\": [\"Mistral-8x7B-v0.1_content_score\", \"Mistral-8x7B-v0.1_title_and_description_score\"],\n",
    "}"
   ]
  },
  {
   "cell_type": "markdown",
   "id": "8af277e6-4875-463c-bed4-2c8d2c6ed739",
   "metadata": {},
   "source": [
    "## CryptoBERT"
   ]
  },
  {
   "cell_type": "code",
   "execution_count": 390,
   "id": "3a2392ed-0fa2-4a1e-a8df-43796214693e",
   "metadata": {},
   "outputs": [
    {
     "data": {
      "image/png": "[encoded data removed]",
      "text/plain": [
       "<Figure size 2100x300 with 1 Axes>"
      ]
     },
     "metadata": {},
     "output_type": "display_data"
    }
   ],
   "source": [
    "plot_sentiment_bar(news_df, SENTIMENT_MODELS_COLUMNS[\"CryptoBERT_sentiment\"][0])"
   ]
  },
  {
   "cell_type": "code",
   "execution_count": 391,
   "id": "47ef87fb-ca10-4123-a1df-b3ec0e26cee2",
   "metadata": {},
   "outputs": [
    {
     "data": {
      "image/png": "[encoded data removed]",
      "text/plain": [
       "<Figure size 2100x300 with 1 Axes>"
      ]
     },
     "metadata": {},
     "output_type": "display_data"
    }
   ],
   "source": [
    "plot_sentiment_bar(news_df, SENTIMENT_MODELS_COLUMNS[\"CryptoBERT_sentiment\"][1])"
   ]
  },
  {
   "cell_type": "code",
   "execution_count": 392,
   "id": "82782780-bff7-4499-b84b-80d2fe3188fb",
   "metadata": {},
   "outputs": [
    {
     "data": {
      "image/png": "[encoded data removed]",
      "text/plain": [
       "<Figure size 2100x300 with 1 Axes>"
      ]
     },
     "metadata": {},
     "output_type": "display_data"
    }
   ],
   "source": [
    "plot_sentiment_bar_for_multiplt_columns(\n",
    "    news_df,\n",
    "    SENTIMENT_MODELS_COLUMNS[\"CryptoBERT_sentiment\"]\n",
    ")"
   ]
  },
  {
   "cell_type": "markdown",
   "id": "abb5404e-3f4b-4430-b9af-eb8c6a837456",
   "metadata": {},
   "source": [
    "## FinBERT"
   ]
  },
  {
   "cell_type": "code",
   "execution_count": 399,
   "id": "01704fea-033a-4fad-bb0b-062455e6a511",
   "metadata": {},
   "outputs": [
    {
     "data": {
      "image/png": "[encoded data removed]",
      "text/plain": [
       "<Figure size 2100x300 with 1 Axes>"
      ]
     },
     "metadata": {},
     "output_type": "display_data"
    }
   ],
   "source": [
    "plot_sentiment_bar(news_df, SENTIMENT_MODELS_COLUMNS[\"FinBERT_sentiment\"][0])"
   ]
  },
  {
   "cell_type": "code",
   "execution_count": 400,
   "id": "a2fbfe70-d5df-4eed-a5e1-a38edad157af",
   "metadata": {},
   "outputs": [
    {
     "data": {
      "image/png": "[encoded data removed]",
      "text/plain": [
       "<Figure size 2100x300 with 1 Axes>"
      ]
     },
     "metadata": {},
     "output_type": "display_data"
    }
   ],
   "source": [
    "plot_sentiment_bar(news_df, SENTIMENT_MODELS_COLUMNS[\"FinBERT_sentiment\"][1])"
   ]
  },
  {
   "cell_type": "code",
   "execution_count": 401,
   "id": "8a456408-465f-4b1a-a5a8-3d9234752b3f",
   "metadata": {},
   "outputs": [
    {
     "data": {
      "image/png": "[encoded data removed]",
      "text/plain": [
       "<Figure size 2100x300 with 1 Axes>"
      ]
     },
     "metadata": {},
     "output_type": "display_data"
    }
   ],
   "source": [
    "plot_sentiment_bar_for_multiplt_columns(\n",
    "    news_df,\n",
    "    SENTIMENT_MODELS_COLUMNS[\"FinBERT_sentiment\"]\n",
    ")"
   ]
  },
  {
   "cell_type": "markdown",
   "id": "ab847ef4-fc9f-40a2-abe0-7a05809b3e9a",
   "metadata": {},
   "source": [
    "## Llama-3-8B"
   ]
  },
  {
   "cell_type": "code",
   "execution_count": 402,
   "id": "32f67a0c-423e-4132-a7c3-8604a115b9e8",
   "metadata": {},
   "outputs": [
    {
     "data": {
      "image/png": "[encoded data removed]",
      "text/plain": [
       "<Figure size 2100x300 with 1 Axes>"
      ]
     },
     "metadata": {},
     "output_type": "display_data"
    }
   ],
   "source": [
    "plot_sentiment_bar(news_df, SENTIMENT_MODELS_COLUMNS[\"Llama-3-8B_sentiment\"][0])"
   ]
  },
  {
   "cell_type": "code",
   "execution_count": 403,
   "id": "db243409-5c73-4152-806a-1651cf07c6e7",
   "metadata": {},
   "outputs": [
    {
     "data": {
      "image/png": "[encoded data removed]",
      "text/plain": [
       "<Figure size 2100x300 with 1 Axes>"
      ]
     },
     "metadata": {},
     "output_type": "display_data"
    }
   ],
   "source": [
    "plot_sentiment_bar(news_df, SENTIMENT_MODELS_COLUMNS[\"Llama-3-8B_sentiment\"][1])"
   ]
  },
  {
   "cell_type": "code",
   "execution_count": 404,
   "id": "847beda1-3a17-41c8-93f8-690882e92ac5",
   "metadata": {},
   "outputs": [
    {
     "data": {
      "image/png": "[encoded data removed]",
      "text/plain": [
       "<Figure size 2100x300 with 1 Axes>"
      ]
     },
     "metadata": {},
     "output_type": "display_data"
    }
   ],
   "source": [
    "plot_sentiment_bar_for_multiplt_columns(\n",
    "    news_df,\n",
    "    SENTIMENT_MODELS_COLUMNS[\"Llama-3-8B_sentiment\"]\n",
    ")"
   ]
  },
  {
   "cell_type": "markdown",
   "id": "36f8e155-2e55-4c87-a2d1-4aa7b90d4acd",
   "metadata": {},
   "source": [
    "## Llama-3.2-3B"
   ]
  },
  {
   "cell_type": "code",
   "execution_count": 405,
   "id": "f40dbbcc-552e-40e7-838c-40aec3cfd0a1",
   "metadata": {},
   "outputs": [
    {
     "data": {
      "image/png": "[encoded data removed]",
      "text/plain": [
       "<Figure size 2100x300 with 1 Axes>"
      ]
     },
     "metadata": {},
     "output_type": "display_data"
    }
   ],
   "source": [
    "plot_sentiment_bar(news_df, SENTIMENT_MODELS_COLUMNS[\"Llama-3.2-3B_sentiment\"][0])"
   ]
  },
  {
   "cell_type": "code",
   "execution_count": 406,
   "id": "bd820c56-c8ac-4568-a05e-ce5609121f3a",
   "metadata": {},
   "outputs": [
    {
     "data": {
      "image/png": "[encoded data removed]",
      "text/plain": [
       "<Figure size 2100x300 with 1 Axes>"
      ]
     },
     "metadata": {},
     "output_type": "display_data"
    }
   ],
   "source": [
    "plot_sentiment_bar(news_df, SENTIMENT_MODELS_COLUMNS[\"Llama-3.2-3B_sentiment\"][1])"
   ]
  },
  {
   "cell_type": "code",
   "execution_count": 407,
   "id": "5c2d082a-9650-4386-9cf5-ef82cd41f3fe",
   "metadata": {},
   "outputs": [
    {
     "data": {
      "image/png": "[encoded data removed]",
      "text/plain": [
       "<Figure size 2100x300 with 1 Axes>"
      ]
     },
     "metadata": {},
     "output_type": "display_data"
    }
   ],
   "source": [
    "plot_sentiment_bar_for_multiplt_columns(\n",
    "    news_df,\n",
    "    SENTIMENT_MODELS_COLUMNS[\"Llama-3.2-3B_sentiment\"]\n",
    ")"
   ]
  },
  {
   "cell_type": "markdown",
   "id": "1c024720-e53d-4a54-98bd-9be0eb4c9766",
   "metadata": {},
   "source": [
    "## Phi-3.5-mini"
   ]
  },
  {
   "cell_type": "code",
   "execution_count": 408,
   "id": "e33c427d-ce07-4faf-a2e3-6cadf89c66a8",
   "metadata": {},
   "outputs": [
    {
     "data": {
      "image/png": "[encoded data removed]",
      "text/plain": [
       "<Figure size 2100x300 with 1 Axes>"
      ]
     },
     "metadata": {},
     "output_type": "display_data"
    }
   ],
   "source": [
    "plot_sentiment_bar(news_df, SENTIMENT_MODELS_COLUMNS[\"Phi-3.5-mini_sentiment\"][0])"
   ]
  },
  {
   "cell_type": "code",
   "execution_count": 409,
   "id": "4b115704-4641-4de5-ad06-17ea5f07c151",
   "metadata": {},
   "outputs": [
    {
     "data": {
      "image/png": "[encoded data removed]",
      "text/plain": [
       "<Figure size 2100x300 with 1 Axes>"
      ]
     },
     "metadata": {},
     "output_type": "display_data"
    }
   ],
   "source": [
    "plot_sentiment_bar(news_df, SENTIMENT_MODELS_COLUMNS[\"Phi-3.5-mini_sentiment\"][1])"
   ]
  },
  {
   "cell_type": "code",
   "execution_count": 410,
   "id": "109d7349-4985-45ec-8f54-6d095f526622",
   "metadata": {},
   "outputs": [
    {
     "data": {
      "image/png": "[encoded data removed]",
      "text/plain": [
       "<Figure size 2100x300 with 1 Axes>"
      ]
     },
     "metadata": {},
     "output_type": "display_data"
    }
   ],
   "source": [
    "plot_sentiment_bar_for_multiplt_columns(\n",
    "    news_df,\n",
    "    SENTIMENT_MODELS_COLUMNS[\"Phi-3.5-mini_sentiment\"]\n",
    ")"
   ]
  },
  {
   "cell_type": "markdown",
   "id": "7a42752f-bf76-484a-abf0-f8b61f948ca9",
   "metadata": {},
   "source": [
    "## Mistral-7B-v0.3"
   ]
  },
  {
   "cell_type": "code",
   "execution_count": 411,
   "id": "1dca6bbc-ac94-45f0-b375-96eb8692bd1a",
   "metadata": {},
   "outputs": [
    {
     "data": {
      "image/png": "[encoded data removed]",
      "text/plain": [
       "<Figure size 2100x300 with 1 Axes>"
      ]
     },
     "metadata": {},
     "output_type": "display_data"
    }
   ],
   "source": [
    "plot_sentiment_bar(news_df, SENTIMENT_MODELS_COLUMNS[\"Mistral-7B-v0.3_sentiment\"][0])"
   ]
  },
  {
   "cell_type": "code",
   "execution_count": 412,
   "id": "cb93822f-e15d-49e4-9360-b0d9d28e7cfc",
   "metadata": {},
   "outputs": [
    {
     "data": {
      "image/png": "[encoded data removed]",
      "text/plain": [
       "<Figure size 2100x300 with 1 Axes>"
      ]
     },
     "metadata": {},
     "output_type": "display_data"
    }
   ],
   "source": [
    "plot_sentiment_bar(news_df, SENTIMENT_MODELS_COLUMNS[\"Mistral-7B-v0.3_sentiment\"][1])"
   ]
  },
  {
   "cell_type": "code",
   "execution_count": 413,
   "id": "e2199003-ad47-42ab-a48e-435d0ae43e05",
   "metadata": {},
   "outputs": [
    {
     "data": {
      "image/png": "[encoded data removed]",
      "text/plain": [
       "<Figure size 2100x300 with 1 Axes>"
      ]
     },
     "metadata": {},
     "output_type": "display_data"
    }
   ],
   "source": [
    "plot_sentiment_bar_for_multiplt_columns(\n",
    "    news_df,\n",
    "    SENTIMENT_MODELS_COLUMNS[\"Mistral-7B-v0.3_sentiment\"]\n",
    ")"
   ]
  },
  {
   "cell_type": "markdown",
   "id": "c191c1d3-f533-4a32-831c-1265e29804d1",
   "metadata": {},
   "source": [
    "## Gemma-2-27b"
   ]
  },
  {
   "cell_type": "code",
   "execution_count": 414,
   "id": "1fb6052f-cff6-4fab-af26-25fb64d69c2e",
   "metadata": {},
   "outputs": [
    {
     "data": {
      "image/png": "[encoded data removed]",
      "text/plain": [
       "<Figure size 2100x300 with 1 Axes>"
      ]
     },
     "metadata": {},
     "output_type": "display_data"
    }
   ],
   "source": [
    "plot_sentiment_bar(news_df, SENTIMENT_MODELS_COLUMNS[\"Gemma-2-27b_sentiment\"][0])"
   ]
  },
  {
   "cell_type": "code",
   "execution_count": 415,
   "id": "4bc86454-6c55-4165-b71b-200dd57ef27d",
   "metadata": {},
   "outputs": [
    {
     "data": {
      "image/png": "[encoded data removed]",
      "text/plain": [
       "<Figure size 2100x300 with 1 Axes>"
      ]
     },
     "metadata": {},
     "output_type": "display_data"
    }
   ],
   "source": [
    "plot_sentiment_bar(news_df, SENTIMENT_MODELS_COLUMNS[\"Gemma-2-27b_sentiment\"][1])"
   ]
  },
  {
   "cell_type": "code",
   "execution_count": 416,
   "id": "40c6cdaf-aa2c-4bb6-a8cd-f6296d7919b0",
   "metadata": {},
   "outputs": [
    {
     "data": {
      "image/png": "[encoded data removed]",
      "text/plain": [
       "<Figure size 2100x300 with 1 Axes>"
      ]
     },
     "metadata": {},
     "output_type": "display_data"
    }
   ],
   "source": [
    "plot_sentiment_bar_for_multiplt_columns(\n",
    "    news_df,\n",
    "    SENTIMENT_MODELS_COLUMNS[\"Gemma-2-27b_sentiment\"]\n",
    ")"
   ]
  },
  {
   "cell_type": "markdown",
   "id": "e7a52312-aa77-4aea-9e84-66f6dd954745",
   "metadata": {},
   "source": [
    "## Mistral-8x7B-v0.1"
   ]
  },
  {
   "cell_type": "code",
   "execution_count": 417,
   "id": "0ef6eed7-f3f5-407f-82a9-7c570b7f041c",
   "metadata": {},
   "outputs": [
    {
     "data": {
      "image/png": "[encoded data removed]",
      "text/plain": [
       "<Figure size 2100x300 with 1 Axes>"
      ]
     },
     "metadata": {},
     "output_type": "display_data"
    }
   ],
   "source": [
    "plot_sentiment_bar(news_df, SENTIMENT_MODELS_COLUMNS[\"Mistral-8x7B-v0.1_sentiment\"][0])"
   ]
  },
  {
   "cell_type": "code",
   "execution_count": 418,
   "id": "4a20f116-38de-458d-9d7c-b550bdf5c5bb",
   "metadata": {},
   "outputs": [
    {
     "data": {
      "image/png": "[encoded data removed]",
      "text/plain": [
       "<Figure size 2100x300 with 1 Axes>"
      ]
     },
     "metadata": {},
     "output_type": "display_data"
    }
   ],
   "source": [
    "plot_sentiment_bar(news_df, SENTIMENT_MODELS_COLUMNS[\"Mistral-8x7B-v0.1_sentiment\"][1])"
   ]
  },
  {
   "cell_type": "code",
   "execution_count": 419,
   "id": "6c9f2edc-b87e-4912-ac57-1a2b22d55dd3",
   "metadata": {},
   "outputs": [
    {
     "data": {
      "image/png": "[encoded data removed]",
      "text/plain": [
       "<Figure size 2100x300 with 1 Axes>"
      ]
     },
     "metadata": {},
     "output_type": "display_data"
    }
   ],
   "source": [
    "plot_sentiment_bar_for_multiplt_columns(\n",
    "    news_df,\n",
    "    SENTIMENT_MODELS_COLUMNS[\"Mistral-8x7B-v0.1_sentiment\"]\n",
    ")"
   ]
  },
  {
   "cell_type": "markdown",
   "id": "4eaa3a8f-fd49-49cc-97f2-6b7bdf80cdfa",
   "metadata": {},
   "source": [
    "## Вывод \n",
    "\n",
    "Для дальнейшего сохранения выч. ресурсов и ускорения работы, будут взяты только модели: \n",
    "* CryptoBERT\n",
    "* FinBERT\n",
    "* Llama-3-8B\n",
    "* Phi-3.5-mini\n",
    "* Mistral-7B-v0.3\n",
    "\n",
    "Именно в этих моделях прослеживается минимальное кол-во отсуствующих результатов"
   ]
  },
  {
   "cell_type": "markdown",
   "id": "72fbb25f-fc95-47b7-9c34-5a292e939c57",
   "metadata": {},
   "source": [
    "# Обработка внешнего датасета с новостями о BTC\n",
    "\n",
    "https://www.kaggle.com/datasets/oliviervha/crypto-news/data"
   ]
  },
  {
   "cell_type": "code",
   "execution_count": 76,
   "id": "07461dde-6b5f-405c-b6a9-6ba9819e21cb",
   "metadata": {},
   "outputs": [],
   "source": [
    "kaggle_df = pd.read_csv(\"cryptonews.csv\")"
   ]
  },
  {
   "cell_type": "code",
   "execution_count": 77,
   "id": "b699bea8-13d8-4365-a4f8-fe4c5f3f6316",
   "metadata": {},
   "outputs": [],
   "source": [
    "kaggle_df = kaggle_df[kaggle_df[\"subject\"] == \"bitcoin\"].reset_index(drop=True)"
   ]
  },
  {
   "cell_type": "code",
   "execution_count": 78,
   "id": "7ee1e873-4766-475e-a177-65cc9a0c6cc9",
   "metadata": {},
   "outputs": [],
   "source": [
    "# Обрезаем данные для уменьшения вычислительного времен\n",
    "kaggle_df = kaggle_df.iloc[:500]"
   ]
  },
  {
   "cell_type": "code",
   "execution_count": 79,
   "id": "b05523a6-925a-48d0-91f5-ea0a6cf491b6",
   "metadata": {},
   "outputs": [
    {
     "data": {
      "text/plain": [
       "(500, 7)"
      ]
     },
     "execution_count": 79,
     "metadata": {},
     "output_type": "execute_result"
    }
   ],
   "source": [
    "kaggle_df.shape"
   ]
  },
  {
   "cell_type": "code",
   "execution_count": 80,
   "id": "30105baa-9e82-4a6b-b7f8-08523b921d4b",
   "metadata": {},
   "outputs": [
    {
     "data": {
      "text/html": [
       "<div>\n",
       "<style scoped>\n",
       "    .dataframe tbody tr th:only-of-type {\n",
       "        vertical-align: middle;\n",
       "    }\n",
       "\n",
       "    .dataframe tbody tr th {\n",
       "        vertical-align: top;\n",
       "    }\n",
       "\n",
       "    .dataframe thead th {\n",
       "        text-align: right;\n",
       "    }\n",
       "</style>\n",
       "<table border=\"1\" class=\"dataframe\">\n",
       "  <thead>\n",
       "    <tr style=\"text-align: right;\">\n",
       "      <th></th>\n",
       "      <th>date</th>\n",
       "      <th>sentiment</th>\n",
       "      <th>source</th>\n",
       "      <th>subject</th>\n",
       "      <th>text</th>\n",
       "      <th>title</th>\n",
       "      <th>url</th>\n",
       "    </tr>\n",
       "  </thead>\n",
       "  <tbody>\n",
       "    <tr>\n",
       "      <th>0</th>\n",
       "      <td>2023-12-19 05:25:00</td>\n",
       "      <td>{'class': 'negative', 'polarity': -0.01, 'subj...</td>\n",
       "      <td>CryptoPotato</td>\n",
       "      <td>bitcoin</td>\n",
       "      <td>Yonsei found that during BTC’s rally in early ...</td>\n",
       "      <td>Is This Why Bitcoin’s Price Rally Was Halted? ...</td>\n",
       "      <td>https://cryptopotato.com/is-this-why-bitcoins-...</td>\n",
       "    </tr>\n",
       "    <tr>\n",
       "      <th>1</th>\n",
       "      <td>2023-12-19 04:50:11</td>\n",
       "      <td>{'class': 'positive', 'polarity': 0.3, 'subjec...</td>\n",
       "      <td>CryptoNews</td>\n",
       "      <td>bitcoin</td>\n",
       "      <td>Cathie Wood led ARK Invest fund sold around 80...</td>\n",
       "      <td>Cathie Wood’s Ark Invest Sells $27.6 Million i...</td>\n",
       "      <td>https://cryptonews.comhttps://cryptonews.com/n...</td>\n",
       "    </tr>\n",
       "    <tr>\n",
       "      <th>2</th>\n",
       "      <td>2023-12-19 04:10:00</td>\n",
       "      <td>{'class': 'neutral', 'polarity': 0.0, 'subject...</td>\n",
       "      <td>CryptoPotato</td>\n",
       "      <td>bitcoin</td>\n",
       "      <td>Bitcoin's 150% surge pales in comparison to th...</td>\n",
       "      <td>Bitcoin Soared 150% in 2023 But These Companie...</td>\n",
       "      <td>https://cryptopotato.com/bitcoin-soared-150-in...</td>\n",
       "    </tr>\n",
       "    <tr>\n",
       "      <th>3</th>\n",
       "      <td>2023-12-19 02:59:59</td>\n",
       "      <td>{'class': 'negative', 'polarity': -0.08, 'subj...</td>\n",
       "      <td>CoinTelegraph</td>\n",
       "      <td>bitcoin</td>\n",
       "      <td>The SEC has pushed back its decision on a rost...</td>\n",
       "      <td>SEC delays several Ethereum ETFs, pushing fina...</td>\n",
       "      <td>https://cointelegraph.com/news/sec-delays-ethe...</td>\n",
       "    </tr>\n",
       "    <tr>\n",
       "      <th>4</th>\n",
       "      <td>2023-12-18 18:33:34</td>\n",
       "      <td>{'class': 'negative', 'polarity': -0.27, 'subj...</td>\n",
       "      <td>CoinTelegraph</td>\n",
       "      <td>bitcoin</td>\n",
       "      <td>Bitcoin may remain under pressure for a few da...</td>\n",
       "      <td>Price analysis 12/18: SPX, DXY, BTC, ETH, BNB,...</td>\n",
       "      <td>https://cointelegraph.com/news/price-analysis-...</td>\n",
       "    </tr>\n",
       "  </tbody>\n",
       "</table>\n",
       "</div>"
      ],
      "text/plain": [
       "                  date                                          sentiment  \\\n",
       "0  2023-12-19 05:25:00  {'class': 'negative', 'polarity': -0.01, 'subj...   \n",
       "1  2023-12-19 04:50:11  {'class': 'positive', 'polarity': 0.3, 'subjec...   \n",
       "2  2023-12-19 04:10:00  {'class': 'neutral', 'polarity': 0.0, 'subject...   \n",
       "3  2023-12-19 02:59:59  {'class': 'negative', 'polarity': -0.08, 'subj...   \n",
       "4  2023-12-18 18:33:34  {'class': 'negative', 'polarity': -0.27, 'subj...   \n",
       "\n",
       "          source  subject                                               text  \\\n",
       "0   CryptoPotato  bitcoin  Yonsei found that during BTC’s rally in early ...   \n",
       "1     CryptoNews  bitcoin  Cathie Wood led ARK Invest fund sold around 80...   \n",
       "2   CryptoPotato  bitcoin  Bitcoin's 150% surge pales in comparison to th...   \n",
       "3  CoinTelegraph  bitcoin  The SEC has pushed back its decision on a rost...   \n",
       "4  CoinTelegraph  bitcoin  Bitcoin may remain under pressure for a few da...   \n",
       "\n",
       "                                               title  \\\n",
       "0  Is This Why Bitcoin’s Price Rally Was Halted? ...   \n",
       "1  Cathie Wood’s Ark Invest Sells $27.6 Million i...   \n",
       "2  Bitcoin Soared 150% in 2023 But These Companie...   \n",
       "3  SEC delays several Ethereum ETFs, pushing fina...   \n",
       "4  Price analysis 12/18: SPX, DXY, BTC, ETH, BNB,...   \n",
       "\n",
       "                                                 url  \n",
       "0  https://cryptopotato.com/is-this-why-bitcoins-...  \n",
       "1  https://cryptonews.comhttps://cryptonews.com/n...  \n",
       "2  https://cryptopotato.com/bitcoin-soared-150-in...  \n",
       "3  https://cointelegraph.com/news/sec-delays-ethe...  \n",
       "4  https://cointelegraph.com/news/price-analysis-...  "
      ]
     },
     "execution_count": 80,
     "metadata": {},
     "output_type": "execute_result"
    }
   ],
   "source": [
    "kaggle_df.head()"
   ]
  },
  {
   "cell_type": "code",
   "execution_count": 81,
   "id": "873c4462-6335-4315-90c2-e7e98987844a",
   "metadata": {},
   "outputs": [
    {
     "data": {
      "text/plain": [
       "'Yonsei found that during BTC’s rally in early December, the Binary CDD was also active, signaling recent activity by short-term holders.'"
      ]
     },
     "execution_count": 81,
     "metadata": {},
     "output_type": "execute_result"
    }
   ],
   "source": [
    "kaggle_df[\"text\"][0]"
   ]
  },
  {
   "cell_type": "code",
   "execution_count": 82,
   "id": "93aee84b-a759-4183-b63c-b3cb2bdae41e",
   "metadata": {},
   "outputs": [
    {
     "data": {
      "text/plain": [
       "'Is This Why Bitcoin’s Price Rally Was Halted? (CryptoQuant)'"
      ]
     },
     "execution_count": 82,
     "metadata": {},
     "output_type": "execute_result"
    }
   ],
   "source": [
    "kaggle_df[\"title\"][0]"
   ]
  },
  {
   "cell_type": "code",
   "execution_count": 83,
   "id": "0346bd9d-b5eb-4ac0-ae10-44765829616e",
   "metadata": {},
   "outputs": [
    {
     "data": {
      "text/plain": [
       "'The digital asset market recorded positive developments throughout the year with significant institutional entries to the market in Q4 2023 as asset prices continue on an upward trajectory.'"
      ]
     },
     "execution_count": 83,
     "metadata": {},
     "output_type": "execute_result"
    }
   ],
   "source": [
    "kaggle_df.loc[idx, \"text\"]"
   ]
  },
  {
   "cell_type": "code",
   "execution_count": 84,
   "id": "64262a78-99a6-4972-900c-522a2dac329d",
   "metadata": {},
   "outputs": [],
   "source": [
    "kaggle_df[\"cryptobert_embedding\"] = pd.Series([[] for _ in range(len(kaggle_df))], dtype=object)\n",
    "\n",
    "kaggle_df[\"cryptobert_content_sentiment\"] = \"\"\n",
    "kaggle_df[\"cryptobert_content_score\"] = np.nan\n",
    "kaggle_df[\"cryptobert_title_and_description_sentiment\"] = \"\"\n",
    "kaggle_df[\"cryptobert_title_and_description_score\"] = np.nan\n",
    "\n",
    "kaggle_df[\"finbert_content_sentiment\"] = \"\"\n",
    "kaggle_df[\"finbert_content_score\"] = np.nan\n",
    "kaggle_df[\"finbert_title_and_description_sentiment\"] = \"\"\n",
    "kaggle_df[\"finbert_title_and_description_score\"] = np.nan\n",
    "\n",
    "kaggle_df[\"Llama-3-8B_content_sentiment\"] = \"\"\n",
    "kaggle_df[\"Llama-3-8B_content_score\"] = np.nan\n",
    "kaggle_df[\"Llama-3-8B_title_and_description_sentiment\"] = \"\"\n",
    "kaggle_df[\"Llama-3-8B_title_and_description_score\"] = np.nan\n",
    "\n",
    "kaggle_df[\"Phi-3.5-mini_content_sentiment\"] = \"\"\n",
    "kaggle_df[\"Phi-3.5-mini_content_score\"] = np.nan\n",
    "kaggle_df[\"Phi-3.5-mini_title_and_description_sentiment\"] = \"\"\n",
    "kaggle_df[\"Phi-3.5-mini_title_and_description_score\"] = np.nan\n",
    "\n",
    "kaggle_df[\"Mistral-7B-v0.3_content_sentiment\"] = \"\"\n",
    "kaggle_df[\"Mistral-7B-v0.3_content_score\"] = np.nan\n",
    "kaggle_df[\"Mistral-7B-v0.3_title_and_description_sentiment\"] = \"\"\n",
    "kaggle_df[\"Mistral-7B-v0.3_title_and_description_score\"] = np.nan"
   ]
  },
  {
   "cell_type": "code",
   "execution_count": 85,
   "id": "0538e31a-793e-4d2e-8404-4953848ac813",
   "metadata": {},
   "outputs": [
    {
     "data": {
      "text/plain": [
       "Index(['date', 'sentiment', 'source', 'subject', 'text', 'title', 'url',\n",
       "       'cryptobert_embedding', 'cryptobert_content_sentiment',\n",
       "       'cryptobert_content_score',\n",
       "       'cryptobert_title_and_description_sentiment',\n",
       "       'cryptobert_title_and_description_score', 'finbert_content_sentiment',\n",
       "       'finbert_content_score', 'finbert_title_and_description_sentiment',\n",
       "       'finbert_title_and_description_score', 'Llama-3-8B_content_sentiment',\n",
       "       'Llama-3-8B_content_score',\n",
       "       'Llama-3-8B_title_and_description_sentiment',\n",
       "       'Llama-3-8B_title_and_description_score',\n",
       "       'Phi-3.5-mini_content_sentiment', 'Phi-3.5-mini_content_score',\n",
       "       'Phi-3.5-mini_title_and_description_sentiment',\n",
       "       'Phi-3.5-mini_title_and_description_score',\n",
       "       'Mistral-7B-v0.3_content_sentiment', 'Mistral-7B-v0.3_content_score',\n",
       "       'Mistral-7B-v0.3_title_and_description_sentiment',\n",
       "       'Mistral-7B-v0.3_title_and_description_score'],\n",
       "      dtype='object')"
      ]
     },
     "execution_count": 85,
     "metadata": {},
     "output_type": "execute_result"
    }
   ],
   "source": [
    "kaggle_df.columns"
   ]
  },
  {
   "cell_type": "code",
   "execution_count": null,
   "id": "1ce7d374-c027-4d84-88fa-7005e35fb82b",
   "metadata": {},
   "outputs": [],
   "source": [
    "embeddings = []\n",
    "\n",
    "for idx in tqdm.tqdm(range(kaggle_df.shape[0])): \n",
    "    embeddings += [cryptobert_sentiment_embedding_calculate(kaggle_df.loc[idx, \"title\"]).tolist()]\n",
    "    \n",
    "    cryptobert_content = cryptobert_sentiment_calculate(kaggle_df.loc[idx, \"text\"])[0]\n",
    "    cryptobert_title_and_description = cryptobert_sentiment_calculate(kaggle_df.loc[idx, \"title\"])[0]\n",
    "    kaggle_df.loc[idx, \"cryptobert_content_sentiment\"] = cryptobert_content['label']\n",
    "    kaggle_df.loc[idx, \"cryptobert_content_score\"] = cryptobert_content['score']\n",
    "    kaggle_df.loc[idx, \"cryptobert_title_and_description_sentiment\"] = cryptobert_title_and_description['label']\n",
    "    kaggle_df.loc[idx, \"cryptobert_title_and_description_score\"] = cryptobert_title_and_description['score']\n",
    "\n",
    "    finbert_content = finbert_sentiment_calculate(kaggle_df.loc[idx, \"text\"])[0]\n",
    "    finbert_title_and_description = finbert_sentiment_calculate(kaggle_df.loc[idx, \"title\"])[0]\n",
    "    kaggle_df.loc[idx, \"finbert_content_sentiment\"] = finbert_content['label']\n",
    "    kaggle_df.loc[idx, \"finbert_content_score\"] = finbert_content['score']\n",
    "    kaggle_df.loc[idx, \"finbert_title_and_description_sentiment\"] = finbert_title_and_description['label']\n",
    "    kaggle_df.loc[idx, \"finbert_title_and_description_score\"] = finbert_title_and_description['score']\n",
    "\n",
    "    llama_3_8B_content = llm_huggingface_sentiment_calculate(kaggle_df.loc[idx, \"text\"], HUGGINGFACE_MODELS[0])[0]\n",
    "    llama_3_8B_title_and_description = llm_huggingface_sentiment_calculate(kaggle_df.loc[idx, \"title\"], HUGGINGFACE_MODELS[0])[0]\n",
    "    kaggle_df.loc[idx, \"Llama-3-8B_content_sentiment\"] = llama_3_8B_content['label']\n",
    "    kaggle_df.loc[idx, \"Llama-3-8B_content_score\"] = llama_3_8B_content['score']\n",
    "    kaggle_df.loc[idx, \"Llama-3-8B_title_and_description_sentiment\"] = llama_3_8B_title_and_description['label']\n",
    "    kaggle_df.loc[idx, \"Llama-3-8B_title_and_description_score\"] = llama_3_8B_title_and_description['score']\n",
    "\n",
    "    phi_3_5_mini_content = llm_huggingface_sentiment_calculate(kaggle_df.loc[idx, \"text\"], HUGGINGFACE_MODELS[2])[0]\n",
    "    phi_3_5_mini_title_and_description = llm_huggingface_sentiment_calculate(kaggle_df.loc[idx, \"title\"], HUGGINGFACE_MODELS[2])[0]\n",
    "    kaggle_df.loc[idx, \"Phi-3.5-mini_content_sentiment\"] = phi_3_5_mini_content['label']\n",
    "    kaggle_df.loc[idx, \"Phi-3.5-mini_content_score\"] = phi_3_5_mini_content['score']\n",
    "    kaggle_df.loc[idx, \"Phi-3.5-mini_title_and_description_sentiment\"] = phi_3_5_mini_title_and_description['label']\n",
    "    kaggle_df.loc[idx, \"Phi-3.5-mini_title_and_description_score\"] = phi_3_5_mini_title_and_description['score']\n",
    "\n",
    "    mistral_7B_v0_3_content = llm_huggingface_sentiment_calculate(kaggle_df.loc[idx, \"text\"], HUGGINGFACE_MODELS[3])[0]\n",
    "    mistral_7B_v0_3_title_and_description = llm_huggingface_sentiment_calculate(kaggle_df.loc[idx, \"title\"], HUGGINGFACE_MODELS[3])[0]\n",
    "    kaggle_df.loc[idx, \"Mistral-7B-v0.3_content_sentiment\"] = mistral_7B_v0_3_content['label']\n",
    "    kaggle_df.loc[idx, \"Mistral-7B-v0.3_content_score\"] = mistral_7B_v0_3_content['score']\n",
    "    kaggle_df.loc[idx, \"Mistral-7B-v0.3_title_and_description_sentiment\"] = mistral_7B_v0_3_title_and_description['label']\n",
    "    kaggle_df.loc[idx, \"Mistral-7B-v0.3_title_and_description_score\"] = mistral_7B_v0_3_title_and_description['score']\n",
    "\n",
    "kaggle_df[\"cryptobert_embedding\"] = embeddings\n",
    "\n",
    "clear_output()"
   ]
  },
  {
   "cell_type": "code",
   "execution_count": 97,
   "id": "12804419-b567-48dc-965b-d325da9a662c",
   "metadata": {},
   "outputs": [
    {
     "data": {
      "text/plain": [
       "(500, 28)"
      ]
     },
     "execution_count": 97,
     "metadata": {},
     "output_type": "execute_result"
    }
   ],
   "source": [
    "kaggle_df.shape"
   ]
  },
  {
   "cell_type": "code",
   "execution_count": 98,
   "id": "0ad94e34-7e60-423e-bf97-664e17fd8092",
   "metadata": {},
   "outputs": [
    {
     "data": {
      "text/html": [
       "<div>\n",
       "<style scoped>\n",
       "    .dataframe tbody tr th:only-of-type {\n",
       "        vertical-align: middle;\n",
       "    }\n",
       "\n",
       "    .dataframe tbody tr th {\n",
       "        vertical-align: top;\n",
       "    }\n",
       "\n",
       "    .dataframe thead th {\n",
       "        text-align: right;\n",
       "    }\n",
       "</style>\n",
       "<table border=\"1\" class=\"dataframe\">\n",
       "  <thead>\n",
       "    <tr style=\"text-align: right;\">\n",
       "      <th></th>\n",
       "      <th>date</th>\n",
       "      <th>sentiment</th>\n",
       "      <th>source</th>\n",
       "      <th>subject</th>\n",
       "      <th>text</th>\n",
       "      <th>title</th>\n",
       "      <th>url</th>\n",
       "      <th>cryptobert_embedding</th>\n",
       "      <th>cryptobert_content_sentiment</th>\n",
       "      <th>cryptobert_content_score</th>\n",
       "      <th>...</th>\n",
       "      <th>Llama-3-8B_title_and_description_sentiment</th>\n",
       "      <th>Llama-3-8B_title_and_description_score</th>\n",
       "      <th>Phi-3.5-mini_content_sentiment</th>\n",
       "      <th>Phi-3.5-mini_content_score</th>\n",
       "      <th>Phi-3.5-mini_title_and_description_sentiment</th>\n",
       "      <th>Phi-3.5-mini_title_and_description_score</th>\n",
       "      <th>Mistral-7B-v0.3_content_sentiment</th>\n",
       "      <th>Mistral-7B-v0.3_content_score</th>\n",
       "      <th>Mistral-7B-v0.3_title_and_description_sentiment</th>\n",
       "      <th>Mistral-7B-v0.3_title_and_description_score</th>\n",
       "    </tr>\n",
       "  </thead>\n",
       "  <tbody>\n",
       "    <tr>\n",
       "      <th>0</th>\n",
       "      <td>2023-12-19 05:25:00</td>\n",
       "      <td>{'class': 'negative', 'polarity': -0.01, 'subj...</td>\n",
       "      <td>CryptoPotato</td>\n",
       "      <td>bitcoin</td>\n",
       "      <td>Yonsei found that during BTC’s rally in early ...</td>\n",
       "      <td>Is This Why Bitcoin’s Price Rally Was Halted? ...</td>\n",
       "      <td>https://cryptopotato.com/is-this-why-bitcoins-...</td>\n",
       "      <td>[-0.1452634036540985, 0.4085088074207306, 0.79...</td>\n",
       "      <td>Negative</td>\n",
       "      <td>0.685094</td>\n",
       "      <td>...</td>\n",
       "      <td>None</td>\n",
       "      <td>0.0</td>\n",
       "      <td>Neutral</td>\n",
       "      <td>0.75</td>\n",
       "      <td>Neutral</td>\n",
       "      <td>0.65</td>\n",
       "      <td>None</td>\n",
       "      <td>0.0</td>\n",
       "      <td>None</td>\n",
       "      <td>0.0</td>\n",
       "    </tr>\n",
       "    <tr>\n",
       "      <th>1</th>\n",
       "      <td>2023-12-19 04:50:11</td>\n",
       "      <td>{'class': 'positive', 'polarity': 0.3, 'subjec...</td>\n",
       "      <td>CryptoNews</td>\n",
       "      <td>bitcoin</td>\n",
       "      <td>Cathie Wood led ARK Invest fund sold around 80...</td>\n",
       "      <td>Cathie Wood’s Ark Invest Sells $27.6 Million i...</td>\n",
       "      <td>https://cryptonews.comhttps://cryptonews.com/n...</td>\n",
       "      <td>[-0.8073985576629639, 0.048012565821409225, 0....</td>\n",
       "      <td>Neutral</td>\n",
       "      <td>0.796176</td>\n",
       "      <td>...</td>\n",
       "      <td>None</td>\n",
       "      <td>0.0</td>\n",
       "      <td>Neutral</td>\n",
       "      <td>0.70</td>\n",
       "      <td>Neutral</td>\n",
       "      <td>0.60</td>\n",
       "      <td>None</td>\n",
       "      <td>0.0</td>\n",
       "      <td>None</td>\n",
       "      <td>0.0</td>\n",
       "    </tr>\n",
       "    <tr>\n",
       "      <th>2</th>\n",
       "      <td>2023-12-19 04:10:00</td>\n",
       "      <td>{'class': 'neutral', 'polarity': 0.0, 'subject...</td>\n",
       "      <td>CryptoPotato</td>\n",
       "      <td>bitcoin</td>\n",
       "      <td>Bitcoin's 150% surge pales in comparison to th...</td>\n",
       "      <td>Bitcoin Soared 150% in 2023 But These Companie...</td>\n",
       "      <td>https://cryptopotato.com/bitcoin-soared-150-in...</td>\n",
       "      <td>[-0.2684962749481201, -0.506695568561554, 0.35...</td>\n",
       "      <td>Positive</td>\n",
       "      <td>0.638466</td>\n",
       "      <td>...</td>\n",
       "      <td>None</td>\n",
       "      <td>0.0</td>\n",
       "      <td>Positive</td>\n",
       "      <td>0.95</td>\n",
       "      <td>Positive</td>\n",
       "      <td>0.95</td>\n",
       "      <td>None</td>\n",
       "      <td>0.0</td>\n",
       "      <td>None</td>\n",
       "      <td>0.0</td>\n",
       "    </tr>\n",
       "    <tr>\n",
       "      <th>3</th>\n",
       "      <td>2023-12-19 02:59:59</td>\n",
       "      <td>{'class': 'negative', 'polarity': -0.08, 'subj...</td>\n",
       "      <td>CoinTelegraph</td>\n",
       "      <td>bitcoin</td>\n",
       "      <td>The SEC has pushed back its decision on a rost...</td>\n",
       "      <td>SEC delays several Ethereum ETFs, pushing fina...</td>\n",
       "      <td>https://cointelegraph.com/news/sec-delays-ethe...</td>\n",
       "      <td>[-0.012931852601468563, 0.651164710521698, 0.5...</td>\n",
       "      <td>Neutral</td>\n",
       "      <td>0.702500</td>\n",
       "      <td>...</td>\n",
       "      <td>None</td>\n",
       "      <td>0.0</td>\n",
       "      <td>Neutral</td>\n",
       "      <td>0.70</td>\n",
       "      <td>Neutral</td>\n",
       "      <td>0.70</td>\n",
       "      <td>None</td>\n",
       "      <td>0.0</td>\n",
       "      <td>None</td>\n",
       "      <td>0.0</td>\n",
       "    </tr>\n",
       "    <tr>\n",
       "      <th>4</th>\n",
       "      <td>2023-12-18 18:33:34</td>\n",
       "      <td>{'class': 'negative', 'polarity': -0.27, 'subj...</td>\n",
       "      <td>CoinTelegraph</td>\n",
       "      <td>bitcoin</td>\n",
       "      <td>Bitcoin may remain under pressure for a few da...</td>\n",
       "      <td>Price analysis 12/18: SPX, DXY, BTC, ETH, BNB,...</td>\n",
       "      <td>https://cointelegraph.com/news/price-analysis-...</td>\n",
       "      <td>[-0.22273632884025574, 0.6594018340110779, 0.3...</td>\n",
       "      <td>Neutral</td>\n",
       "      <td>0.632399</td>\n",
       "      <td>...</td>\n",
       "      <td>Neutral</td>\n",
       "      <td>0.9</td>\n",
       "      <td>Positive</td>\n",
       "      <td>0.75</td>\n",
       "      <td>Neutral</td>\n",
       "      <td>0.70</td>\n",
       "      <td>None</td>\n",
       "      <td>0.0</td>\n",
       "      <td>None</td>\n",
       "      <td>0.0</td>\n",
       "    </tr>\n",
       "  </tbody>\n",
       "</table>\n",
       "<p>5 rows × 28 columns</p>\n",
       "</div>"
      ],
      "text/plain": [
       "                  date                                          sentiment  \\\n",
       "0  2023-12-19 05:25:00  {'class': 'negative', 'polarity': -0.01, 'subj...   \n",
       "1  2023-12-19 04:50:11  {'class': 'positive', 'polarity': 0.3, 'subjec...   \n",
       "2  2023-12-19 04:10:00  {'class': 'neutral', 'polarity': 0.0, 'subject...   \n",
       "3  2023-12-19 02:59:59  {'class': 'negative', 'polarity': -0.08, 'subj...   \n",
       "4  2023-12-18 18:33:34  {'class': 'negative', 'polarity': -0.27, 'subj...   \n",
       "\n",
       "          source  subject                                               text  \\\n",
       "0   CryptoPotato  bitcoin  Yonsei found that during BTC’s rally in early ...   \n",
       "1     CryptoNews  bitcoin  Cathie Wood led ARK Invest fund sold around 80...   \n",
       "2   CryptoPotato  bitcoin  Bitcoin's 150% surge pales in comparison to th...   \n",
       "3  CoinTelegraph  bitcoin  The SEC has pushed back its decision on a rost...   \n",
       "4  CoinTelegraph  bitcoin  Bitcoin may remain under pressure for a few da...   \n",
       "\n",
       "                                               title  \\\n",
       "0  Is This Why Bitcoin’s Price Rally Was Halted? ...   \n",
       "1  Cathie Wood’s Ark Invest Sells $27.6 Million i...   \n",
       "2  Bitcoin Soared 150% in 2023 But These Companie...   \n",
       "3  SEC delays several Ethereum ETFs, pushing fina...   \n",
       "4  Price analysis 12/18: SPX, DXY, BTC, ETH, BNB,...   \n",
       "\n",
       "                                                 url  \\\n",
       "0  https://cryptopotato.com/is-this-why-bitcoins-...   \n",
       "1  https://cryptonews.comhttps://cryptonews.com/n...   \n",
       "2  https://cryptopotato.com/bitcoin-soared-150-in...   \n",
       "3  https://cointelegraph.com/news/sec-delays-ethe...   \n",
       "4  https://cointelegraph.com/news/price-analysis-...   \n",
       "\n",
       "                                cryptobert_embedding  \\\n",
       "0  [-0.1452634036540985, 0.4085088074207306, 0.79...   \n",
       "1  [-0.8073985576629639, 0.048012565821409225, 0....   \n",
       "2  [-0.2684962749481201, -0.506695568561554, 0.35...   \n",
       "3  [-0.012931852601468563, 0.651164710521698, 0.5...   \n",
       "4  [-0.22273632884025574, 0.6594018340110779, 0.3...   \n",
       "\n",
       "  cryptobert_content_sentiment  cryptobert_content_score  ...  \\\n",
       "0                     Negative                  0.685094  ...   \n",
       "1                      Neutral                  0.796176  ...   \n",
       "2                     Positive                  0.638466  ...   \n",
       "3                      Neutral                  0.702500  ...   \n",
       "4                      Neutral                  0.632399  ...   \n",
       "\n",
       "  Llama-3-8B_title_and_description_sentiment  \\\n",
       "0                                       None   \n",
       "1                                       None   \n",
       "2                                       None   \n",
       "3                                       None   \n",
       "4                                    Neutral   \n",
       "\n",
       "   Llama-3-8B_title_and_description_score Phi-3.5-mini_content_sentiment  \\\n",
       "0                                     0.0                        Neutral   \n",
       "1                                     0.0                        Neutral   \n",
       "2                                     0.0                       Positive   \n",
       "3                                     0.0                        Neutral   \n",
       "4                                     0.9                       Positive   \n",
       "\n",
       "   Phi-3.5-mini_content_score Phi-3.5-mini_title_and_description_sentiment  \\\n",
       "0                        0.75                                      Neutral   \n",
       "1                        0.70                                      Neutral   \n",
       "2                        0.95                                     Positive   \n",
       "3                        0.70                                      Neutral   \n",
       "4                        0.75                                      Neutral   \n",
       "\n",
       "   Phi-3.5-mini_title_and_description_score Mistral-7B-v0.3_content_sentiment  \\\n",
       "0                                      0.65                              None   \n",
       "1                                      0.60                              None   \n",
       "2                                      0.95                              None   \n",
       "3                                      0.70                              None   \n",
       "4                                      0.70                              None   \n",
       "\n",
       "   Mistral-7B-v0.3_content_score  \\\n",
       "0                            0.0   \n",
       "1                            0.0   \n",
       "2                            0.0   \n",
       "3                            0.0   \n",
       "4                            0.0   \n",
       "\n",
       "  Mistral-7B-v0.3_title_and_description_sentiment  \\\n",
       "0                                            None   \n",
       "1                                            None   \n",
       "2                                            None   \n",
       "3                                            None   \n",
       "4                                            None   \n",
       "\n",
       "   Mistral-7B-v0.3_title_and_description_score  \n",
       "0                                          0.0  \n",
       "1                                          0.0  \n",
       "2                                          0.0  \n",
       "3                                          0.0  \n",
       "4                                          0.0  \n",
       "\n",
       "[5 rows x 28 columns]"
      ]
     },
     "execution_count": 98,
     "metadata": {},
     "output_type": "execute_result"
    }
   ],
   "source": [
    "kaggle_df.head()"
   ]
  },
  {
   "cell_type": "markdown",
   "id": "5d76afea-ecf9-4172-8c0f-6e72bb2851ad",
   "metadata": {},
   "source": [
    "## Сохранение результатов"
   ]
  },
  {
   "cell_type": "code",
   "execution_count": 87,
   "id": "8e3d6056-ee36-40c6-a214-49c3cf225ef0",
   "metadata": {},
   "outputs": [],
   "source": [
    "kaggle_df.to_json(\"kaggle_df.json\")"
   ]
  },
  {
   "cell_type": "markdown",
   "id": "4d8b4f2b-bf9b-491a-b36e-a3d6d35ff0f9",
   "metadata": {},
   "source": [
    "# Создание датасетов для записи данных\n",
    "\n",
    "Здесь будут созданы датасет, который изначально будет записан в БД, а другой датасет будет имитировать работу инкрементной записи AirFlow"
   ]
  },
  {
   "cell_type": "code",
   "execution_count": 88,
   "id": "f1ac7ee8-6427-41bf-b622-9f7794425c19",
   "metadata": {},
   "outputs": [],
   "source": [
    "df_1 = pd.read_json(\"news_df.json\")\n",
    "df_2 = pd.read_json(\"kaggle_df.json\")"
   ]
  },
  {
   "cell_type": "code",
   "execution_count": 126,
   "id": "89bf4efe-aa35-4041-bff1-1f48f783ff0f",
   "metadata": {},
   "outputs": [],
   "source": [
    "result_df = pd.DataFrame(\n",
    "    columns=[\n",
    "        'published_at', 'source', 'cryptobert_embedding',\n",
    "        \n",
    "        'cryptobert_content_sentiment',\n",
    "        'cryptobert_content_score',\n",
    "        'cryptobert_title_and_description_sentiment',\n",
    "        'cryptobert_title_and_description_score', \n",
    "        \n",
    "        'finbert_content_sentiment',\n",
    "        'finbert_content_score', \n",
    "        'finbert_title_and_description_sentiment',\n",
    "        'finbert_title_and_description_score',\n",
    "        \n",
    "        'Llama-3-8B_content_sentiment',\n",
    "        'Llama-3-8B_content_score',\n",
    "        'Llama-3-8B_title_and_description_sentiment',\n",
    "        'Llama-3-8B_title_and_description_score',\n",
    "        \n",
    "        'Phi-3.5-mini_content_sentiment', \n",
    "        'Phi-3.5-mini_content_score',\n",
    "        'Phi-3.5-mini_title_and_description_sentiment',\n",
    "        'Phi-3.5-mini_title_and_description_score',\n",
    "        \n",
    "        'Mistral-7B-v0.3_content_sentiment', \n",
    "        'Mistral-7B-v0.3_content_score',\n",
    "        'Mistral-7B-v0.3_title_and_description_sentiment',\n",
    "        'Mistral-7B-v0.3_title_and_description_score'\n",
    "    ]\n",
    ")"
   ]
  },
  {
   "cell_type": "code",
   "execution_count": 103,
   "id": "d832adb0-9bbe-4f9d-b120-34f1253d42c4",
   "metadata": {},
   "outputs": [],
   "source": [
    "df_2 = df_2.rename(columns={'date': 'published_at'})"
   ]
  },
  {
   "cell_type": "code",
   "execution_count": 131,
   "id": "efd2aa78-f156-419d-9fa2-16a1c33e6e9a",
   "metadata": {},
   "outputs": [],
   "source": [
    "for idx in range(df_1.shape[0]):\n",
    "    result_df = pd.concat([result_df, df_1.iloc[idx][result_df.columns].to_frame().T])"
   ]
  },
  {
   "cell_type": "code",
   "execution_count": 133,
   "id": "596fa289-e2e1-47dc-9105-4c2bbcaa1fef",
   "metadata": {},
   "outputs": [],
   "source": [
    "for idx in range(df_2.shape[0]):\n",
    "    result_df = pd.concat([result_df, df_2.iloc[idx][result_df.columns].to_frame().T])"
   ]
  },
  {
   "cell_type": "code",
   "execution_count": 134,
   "id": "5c5c36c1-d2b6-48b8-a5d3-ee7f40e6b1c1",
   "metadata": {},
   "outputs": [],
   "source": [
    "result_df = result_df.reset_index(drop=True)"
   ]
  },
  {
   "cell_type": "code",
   "execution_count": 135,
   "id": "be48ffa7-9c37-454d-9ec5-3057b451317d",
   "metadata": {},
   "outputs": [
    {
     "data": {
      "text/plain": [
       "(555, 23)"
      ]
     },
     "execution_count": 135,
     "metadata": {},
     "output_type": "execute_result"
    }
   ],
   "source": [
    "result_df.shape"
   ]
  },
  {
   "cell_type": "code",
   "execution_count": 136,
   "id": "9a1d15c5-703f-4c44-8f01-e1c47987d068",
   "metadata": {},
   "outputs": [
    {
     "data": {
      "text/html": [
       "<div>\n",
       "<style scoped>\n",
       "    .dataframe tbody tr th:only-of-type {\n",
       "        vertical-align: middle;\n",
       "    }\n",
       "\n",
       "    .dataframe tbody tr th {\n",
       "        vertical-align: top;\n",
       "    }\n",
       "\n",
       "    .dataframe thead th {\n",
       "        text-align: right;\n",
       "    }\n",
       "</style>\n",
       "<table border=\"1\" class=\"dataframe\">\n",
       "  <thead>\n",
       "    <tr style=\"text-align: right;\">\n",
       "      <th></th>\n",
       "      <th>published_at</th>\n",
       "      <th>source</th>\n",
       "      <th>cryptobert_embedding</th>\n",
       "      <th>cryptobert_content_sentiment</th>\n",
       "      <th>cryptobert_content_score</th>\n",
       "      <th>cryptobert_title_and_description_sentiment</th>\n",
       "      <th>cryptobert_title_and_description_score</th>\n",
       "      <th>finbert_content_sentiment</th>\n",
       "      <th>finbert_content_score</th>\n",
       "      <th>finbert_title_and_description_sentiment</th>\n",
       "      <th>...</th>\n",
       "      <th>Llama-3-8B_title_and_description_sentiment</th>\n",
       "      <th>Llama-3-8B_title_and_description_score</th>\n",
       "      <th>Phi-3.5-mini_content_sentiment</th>\n",
       "      <th>Phi-3.5-mini_content_score</th>\n",
       "      <th>Phi-3.5-mini_title_and_description_sentiment</th>\n",
       "      <th>Phi-3.5-mini_title_and_description_score</th>\n",
       "      <th>Mistral-7B-v0.3_content_sentiment</th>\n",
       "      <th>Mistral-7B-v0.3_content_score</th>\n",
       "      <th>Mistral-7B-v0.3_title_and_description_sentiment</th>\n",
       "      <th>Mistral-7B-v0.3_title_and_description_score</th>\n",
       "    </tr>\n",
       "  </thead>\n",
       "  <tbody>\n",
       "    <tr>\n",
       "      <th>0</th>\n",
       "      <td>2024-10-04 20:10:21+00:00</td>\n",
       "      <td>Business Insider</td>\n",
       "      <td>[0.22408461570000002, -0.45151036980000003, 0....</td>\n",
       "      <td>Neutral</td>\n",
       "      <td>0.636737</td>\n",
       "      <td>Positive</td>\n",
       "      <td>0.668114</td>\n",
       "      <td>Positive</td>\n",
       "      <td>0.999421</td>\n",
       "      <td>Positive</td>\n",
       "      <td>...</td>\n",
       "      <td>Positive</td>\n",
       "      <td>0.8</td>\n",
       "      <td>Positive</td>\n",
       "      <td>0.9</td>\n",
       "      <td>Positive</td>\n",
       "      <td>0.95</td>\n",
       "      <td>None</td>\n",
       "      <td>0.0</td>\n",
       "      <td>None</td>\n",
       "      <td>0.0</td>\n",
       "    </tr>\n",
       "    <tr>\n",
       "      <th>1</th>\n",
       "      <td>2024-10-04 13:42:52+00:00</td>\n",
       "      <td>Business Insider</td>\n",
       "      <td>[0.5452716351, -0.5789197087, -0.0811856017, 0...</td>\n",
       "      <td>Neutral</td>\n",
       "      <td>0.512202</td>\n",
       "      <td>Positive</td>\n",
       "      <td>0.608803</td>\n",
       "      <td>Positive</td>\n",
       "      <td>1.0</td>\n",
       "      <td>Positive</td>\n",
       "      <td>...</td>\n",
       "      <td>Positive</td>\n",
       "      <td>0.7</td>\n",
       "      <td>Positive</td>\n",
       "      <td>0.95</td>\n",
       "      <td>Positive</td>\n",
       "      <td>0.85</td>\n",
       "      <td>None</td>\n",
       "      <td>0.0</td>\n",
       "      <td>None</td>\n",
       "      <td>0.0</td>\n",
       "    </tr>\n",
       "    <tr>\n",
       "      <th>2</th>\n",
       "      <td>2024-10-03 20:11:36+00:00</td>\n",
       "      <td>Business Insider</td>\n",
       "      <td>[0.4440334141, -0.3558115363, 1.0342404842, 0....</td>\n",
       "      <td>Neutral</td>\n",
       "      <td>0.696073</td>\n",
       "      <td>Neutral</td>\n",
       "      <td>0.903526</td>\n",
       "      <td>Negative</td>\n",
       "      <td>0.987458</td>\n",
       "      <td>Negative</td>\n",
       "      <td>...</td>\n",
       "      <td>Negative</td>\n",
       "      <td>0.8</td>\n",
       "      <td>Negative</td>\n",
       "      <td>0.85</td>\n",
       "      <td>Negative</td>\n",
       "      <td>0.85</td>\n",
       "      <td>None</td>\n",
       "      <td>0.0</td>\n",
       "      <td>None</td>\n",
       "      <td>0.0</td>\n",
       "    </tr>\n",
       "    <tr>\n",
       "      <th>3</th>\n",
       "      <td>2024-10-03 19:32:35+00:00</td>\n",
       "      <td>The Verge</td>\n",
       "      <td>[0.46444684270000003, -0.6201056838, 0.1298819...</td>\n",
       "      <td>Positive</td>\n",
       "      <td>0.746908</td>\n",
       "      <td>Positive</td>\n",
       "      <td>0.66295</td>\n",
       "      <td>Neutral</td>\n",
       "      <td>0.999903</td>\n",
       "      <td>Neutral</td>\n",
       "      <td>...</td>\n",
       "      <td>Positive</td>\n",
       "      <td>0.9</td>\n",
       "      <td>Positive</td>\n",
       "      <td>0.75</td>\n",
       "      <td>Positive</td>\n",
       "      <td>0.9</td>\n",
       "      <td>None</td>\n",
       "      <td>0.0</td>\n",
       "      <td>None</td>\n",
       "      <td>0.0</td>\n",
       "    </tr>\n",
       "    <tr>\n",
       "      <th>4</th>\n",
       "      <td>2024-10-03 13:37:41+00:00</td>\n",
       "      <td>Business Insider</td>\n",
       "      <td>[0.5597029328, -0.253352344, 1.1046607494, 0.8...</td>\n",
       "      <td>Positive</td>\n",
       "      <td>0.498512</td>\n",
       "      <td>Neutral</td>\n",
       "      <td>0.614407</td>\n",
       "      <td>Positive</td>\n",
       "      <td>0.861552</td>\n",
       "      <td>Negative</td>\n",
       "      <td>...</td>\n",
       "      <td>Negative</td>\n",
       "      <td>0.7</td>\n",
       "      <td>Negative</td>\n",
       "      <td>0.85</td>\n",
       "      <td>Negative</td>\n",
       "      <td>0.85</td>\n",
       "      <td>None</td>\n",
       "      <td>0.0</td>\n",
       "      <td>None</td>\n",
       "      <td>0.0</td>\n",
       "    </tr>\n",
       "  </tbody>\n",
       "</table>\n",
       "<p>5 rows × 23 columns</p>\n",
       "</div>"
      ],
      "text/plain": [
       "                published_at            source  \\\n",
       "0  2024-10-04 20:10:21+00:00  Business Insider   \n",
       "1  2024-10-04 13:42:52+00:00  Business Insider   \n",
       "2  2024-10-03 20:11:36+00:00  Business Insider   \n",
       "3  2024-10-03 19:32:35+00:00         The Verge   \n",
       "4  2024-10-03 13:37:41+00:00  Business Insider   \n",
       "\n",
       "                                cryptobert_embedding  \\\n",
       "0  [0.22408461570000002, -0.45151036980000003, 0....   \n",
       "1  [0.5452716351, -0.5789197087, -0.0811856017, 0...   \n",
       "2  [0.4440334141, -0.3558115363, 1.0342404842, 0....   \n",
       "3  [0.46444684270000003, -0.6201056838, 0.1298819...   \n",
       "4  [0.5597029328, -0.253352344, 1.1046607494, 0.8...   \n",
       "\n",
       "  cryptobert_content_sentiment cryptobert_content_score  \\\n",
       "0                      Neutral                 0.636737   \n",
       "1                      Neutral                 0.512202   \n",
       "2                      Neutral                 0.696073   \n",
       "3                     Positive                 0.746908   \n",
       "4                     Positive                 0.498512   \n",
       "\n",
       "  cryptobert_title_and_description_sentiment  \\\n",
       "0                                   Positive   \n",
       "1                                   Positive   \n",
       "2                                    Neutral   \n",
       "3                                   Positive   \n",
       "4                                    Neutral   \n",
       "\n",
       "  cryptobert_title_and_description_score finbert_content_sentiment  \\\n",
       "0                               0.668114                  Positive   \n",
       "1                               0.608803                  Positive   \n",
       "2                               0.903526                  Negative   \n",
       "3                                0.66295                   Neutral   \n",
       "4                               0.614407                  Positive   \n",
       "\n",
       "  finbert_content_score finbert_title_and_description_sentiment  ...  \\\n",
       "0              0.999421                                Positive  ...   \n",
       "1                   1.0                                Positive  ...   \n",
       "2              0.987458                                Negative  ...   \n",
       "3              0.999903                                 Neutral  ...   \n",
       "4              0.861552                                Negative  ...   \n",
       "\n",
       "  Llama-3-8B_title_and_description_sentiment  \\\n",
       "0                                   Positive   \n",
       "1                                   Positive   \n",
       "2                                   Negative   \n",
       "3                                   Positive   \n",
       "4                                   Negative   \n",
       "\n",
       "  Llama-3-8B_title_and_description_score Phi-3.5-mini_content_sentiment  \\\n",
       "0                                    0.8                       Positive   \n",
       "1                                    0.7                       Positive   \n",
       "2                                    0.8                       Negative   \n",
       "3                                    0.9                       Positive   \n",
       "4                                    0.7                       Negative   \n",
       "\n",
       "  Phi-3.5-mini_content_score Phi-3.5-mini_title_and_description_sentiment  \\\n",
       "0                        0.9                                     Positive   \n",
       "1                       0.95                                     Positive   \n",
       "2                       0.85                                     Negative   \n",
       "3                       0.75                                     Positive   \n",
       "4                       0.85                                     Negative   \n",
       "\n",
       "  Phi-3.5-mini_title_and_description_score Mistral-7B-v0.3_content_sentiment  \\\n",
       "0                                     0.95                              None   \n",
       "1                                     0.85                              None   \n",
       "2                                     0.85                              None   \n",
       "3                                      0.9                              None   \n",
       "4                                     0.85                              None   \n",
       "\n",
       "  Mistral-7B-v0.3_content_score  \\\n",
       "0                           0.0   \n",
       "1                           0.0   \n",
       "2                           0.0   \n",
       "3                           0.0   \n",
       "4                           0.0   \n",
       "\n",
       "  Mistral-7B-v0.3_title_and_description_sentiment  \\\n",
       "0                                            None   \n",
       "1                                            None   \n",
       "2                                            None   \n",
       "3                                            None   \n",
       "4                                            None   \n",
       "\n",
       "  Mistral-7B-v0.3_title_and_description_score  \n",
       "0                                         0.0  \n",
       "1                                         0.0  \n",
       "2                                         0.0  \n",
       "3                                         0.0  \n",
       "4                                         0.0  \n",
       "\n",
       "[5 rows x 23 columns]"
      ]
     },
     "execution_count": 136,
     "metadata": {},
     "output_type": "execute_result"
    }
   ],
   "source": [
    "result_df.head()"
   ]
  },
  {
   "cell_type": "code",
   "execution_count": 153,
   "id": "bfbb2598-5ac7-46e5-b447-946e489c8ed4",
   "metadata": {},
   "outputs": [],
   "source": [
    "df_save = result_df[:-20]"
   ]
  },
  {
   "cell_type": "code",
   "execution_count": 154,
   "id": "fff63122-aa1c-4365-8bf5-346f02439725",
   "metadata": {},
   "outputs": [
    {
     "data": {
      "text/plain": [
       "(535, 23)"
      ]
     },
     "execution_count": 154,
     "metadata": {},
     "output_type": "execute_result"
    }
   ],
   "source": [
    "df_save.shape"
   ]
  },
  {
   "cell_type": "code",
   "execution_count": 157,
   "id": "1138eff3-013c-4d78-ab97-c40bbfa4fbae",
   "metadata": {},
   "outputs": [],
   "source": [
    "df_test = kaggle_df.iloc[-20:][[\"date\", \"source\", \"subject\", \"text\", \"title\"]]\n",
    "df_test = df_test.rename(columns={'date': 'published_at'})\n",
    "df_test = df_test.reset_index(drop=True)"
   ]
  },
  {
   "cell_type": "code",
   "execution_count": 158,
   "id": "87f05576-793a-459f-901d-2d63e39d0533",
   "metadata": {},
   "outputs": [
    {
     "data": {
      "text/plain": [
       "(20, 5)"
      ]
     },
     "execution_count": 158,
     "metadata": {},
     "output_type": "execute_result"
    }
   ],
   "source": [
    "df_test.shape"
   ]
  },
  {
   "cell_type": "code",
   "execution_count": 159,
   "id": "68bac017-13be-448d-bdfb-c5a4ff90722d",
   "metadata": {},
   "outputs": [
    {
     "data": {
      "text/html": [
       "<div>\n",
       "<style scoped>\n",
       "    .dataframe tbody tr th:only-of-type {\n",
       "        vertical-align: middle;\n",
       "    }\n",
       "\n",
       "    .dataframe tbody tr th {\n",
       "        vertical-align: top;\n",
       "    }\n",
       "\n",
       "    .dataframe thead th {\n",
       "        text-align: right;\n",
       "    }\n",
       "</style>\n",
       "<table border=\"1\" class=\"dataframe\">\n",
       "  <thead>\n",
       "    <tr style=\"text-align: right;\">\n",
       "      <th></th>\n",
       "      <th>published_at</th>\n",
       "      <th>source</th>\n",
       "      <th>subject</th>\n",
       "      <th>text</th>\n",
       "      <th>title</th>\n",
       "    </tr>\n",
       "  </thead>\n",
       "  <tbody>\n",
       "    <tr>\n",
       "      <th>0</th>\n",
       "      <td>2023-11-22 20:13:53</td>\n",
       "      <td>CryptoNews</td>\n",
       "      <td>bitcoin</td>\n",
       "      <td>Blackrock held a meeting with the U.S. Securit...</td>\n",
       "      <td>Analyst: BlackRock is Holding Meetings With th...</td>\n",
       "    </tr>\n",
       "    <tr>\n",
       "      <th>1</th>\n",
       "      <td>2023-11-22 20:00:09</td>\n",
       "      <td>CoinTelegraph</td>\n",
       "      <td>bitcoin</td>\n",
       "      <td>The creator of the Mutant Ape Planet NFT colle...</td>\n",
       "      <td>MAYC ripoff creator pleads guilty, G2A opens N...</td>\n",
       "    </tr>\n",
       "    <tr>\n",
       "      <th>2</th>\n",
       "      <td>2023-11-22 19:47:00</td>\n",
       "      <td>CryptoPotato</td>\n",
       "      <td>bitcoin</td>\n",
       "      <td>The SEC met with Grayscale Investments to comp...</td>\n",
       "      <td>Grayscale Investments Meets with SEC to Discus...</td>\n",
       "    </tr>\n",
       "    <tr>\n",
       "      <th>3</th>\n",
       "      <td>2023-11-22 19:44:48</td>\n",
       "      <td>CoinTelegraph</td>\n",
       "      <td>bitcoin</td>\n",
       "      <td>BTC futures and options held firm despite a wa...</td>\n",
       "      <td>Bitcoin derivatives traders target $40K BTC pr...</td>\n",
       "    </tr>\n",
       "    <tr>\n",
       "      <th>4</th>\n",
       "      <td>2023-11-22 19:10:00</td>\n",
       "      <td>CryptoPotato</td>\n",
       "      <td>bitcoin</td>\n",
       "      <td>The New York Stock Exchange's former leader is...</td>\n",
       "      <td>Money Will Flood Into Bitcoin When An ETF Is A...</td>\n",
       "    </tr>\n",
       "  </tbody>\n",
       "</table>\n",
       "</div>"
      ],
      "text/plain": [
       "          published_at         source  subject  \\\n",
       "0  2023-11-22 20:13:53     CryptoNews  bitcoin   \n",
       "1  2023-11-22 20:00:09  CoinTelegraph  bitcoin   \n",
       "2  2023-11-22 19:47:00   CryptoPotato  bitcoin   \n",
       "3  2023-11-22 19:44:48  CoinTelegraph  bitcoin   \n",
       "4  2023-11-22 19:10:00   CryptoPotato  bitcoin   \n",
       "\n",
       "                                                text  \\\n",
       "0  Blackrock held a meeting with the U.S. Securit...   \n",
       "1  The creator of the Mutant Ape Planet NFT colle...   \n",
       "2  The SEC met with Grayscale Investments to comp...   \n",
       "3  BTC futures and options held firm despite a wa...   \n",
       "4  The New York Stock Exchange's former leader is...   \n",
       "\n",
       "                                               title  \n",
       "0  Analyst: BlackRock is Holding Meetings With th...  \n",
       "1  MAYC ripoff creator pleads guilty, G2A opens N...  \n",
       "2  Grayscale Investments Meets with SEC to Discus...  \n",
       "3  Bitcoin derivatives traders target $40K BTC pr...  \n",
       "4  Money Will Flood Into Bitcoin When An ETF Is A...  "
      ]
     },
     "execution_count": 159,
     "metadata": {},
     "output_type": "execute_result"
    }
   ],
   "source": [
    "df_test.head()"
   ]
  },
  {
   "cell_type": "markdown",
   "id": "9637b581-123d-4db2-b908-bbfa0ceb0c19",
   "metadata": {},
   "source": [
    "# Сохранение данных в Qdrant"
   ]
  },
  {
   "cell_type": "code",
   "execution_count": 1,
   "id": "3a554cef-e643-4c99-8b9c-7a5adff5ecde",
   "metadata": {},
   "outputs": [],
   "source": [
    "from qdrant_client import QdrantClient, models\n",
    "from qdrant_client.http.api_client import UnexpectedResponse"
   ]
  },
  {
   "cell_type": "markdown",
   "id": "98216dba-80cd-48b8-bbaf-599418d492fb",
   "metadata": {},
   "source": [
    "## Создание коллекции для записи"
   ]
  },
  {
   "cell_type": "code",
   "execution_count": 2,
   "id": "787b6b48-dd13-487d-a119-996a12d74f30",
   "metadata": {},
   "outputs": [],
   "source": [
    "q_client = QdrantClient(url=\"http://qdrant:6333\", timeout=300)"
   ]
  },
  {
   "cell_type": "code",
   "execution_count": 177,
   "id": "dcdfda71-0c21-4464-aa5f-3babf29a12bc",
   "metadata": {},
   "outputs": [
    {
     "name": "stdout",
     "output_type": "stream",
     "text": [
      "Такая коллекция уже существует\n"
     ]
    }
   ],
   "source": [
    "try:\n",
    "    q_client.create_collection(\n",
    "        collection_name=\"btc_news\",\n",
    "        vectors_config={\n",
    "            \"cryptobert_embedding\": models.VectorParams(size=768, distance=models.Distance.COSINE, on_disk=True),\n",
    "        },\n",
    "        replication_factor=1,\n",
    "        on_disk_payload=True,  # Храним payload на диске\n",
    "        hnsw_config=models.HnswConfigDiff(\n",
    "            ef_construct=128,\n",
    "            m=32,\n",
    "        ),\n",
    "        quantization_config=models.ScalarQuantization(\n",
    "            scalar=models.ScalarQuantizationConfig(\n",
    "                type=models.ScalarType.INT8,\n",
    "                quantile=1.0, # Все данные будут сохранятся в квантизированном HNSW индексе\n",
    "                always_ram=False\n",
    "            )\n",
    "        )\n",
    "    )\n",
    "except UnexpectedResponse as error:\n",
    "    print(\"Такая коллекция уже существует\")"
   ]
  },
  {
   "cell_type": "markdown",
   "id": "d39ad614-ee6d-4dd7-98bf-c91df25af80d",
   "metadata": {},
   "source": [
    "## Запись части данных в коллекцию"
   ]
  },
  {
   "cell_type": "code",
   "execution_count": 152,
   "id": "e18e9800-e43f-4ddc-959d-3ee49ed5436f",
   "metadata": {},
   "outputs": [
    {
     "name": "stderr",
     "output_type": "stream",
     "text": [
      "100%|██████████| 535/535 [00:02<00:00, 221.45it/s]\n"
     ]
    }
   ],
   "source": [
    "for idx in tqdm.tqdm(range(0, df_save.shape[0])):\n",
    "    q_client.upsert(\n",
    "        collection_name=\"btc_news\",\n",
    "        points=[\n",
    "            models.PointStruct(\n",
    "                id=idx,\n",
    "                payload={\n",
    "                    'published_at': df_save.loc[idx, \"published_at\"],\n",
    "                    'source': df_save.loc[idx, \"source\"],\n",
    "                    \n",
    "                    'CryptoBERT_content_sentiment': df_save.loc[idx, \"cryptobert_content_sentiment\"],\n",
    "                    'CryptoBERT_content_score': float(df_save.loc[idx, \"cryptobert_content_score\"]),\n",
    "                    'CryptoBERT_title_and_description_sentiment': df_save.loc[idx, \"cryptobert_title_and_description_sentiment\"],\n",
    "                    'CryptoBERT_title_and_description_score': float(df_save.loc[idx, \"cryptobert_title_and_description_score\"]),\n",
    "                    \n",
    "                    'FinBERT_content_sentiment': df_save.loc[idx, \"finbert_content_sentiment\"],\n",
    "                    'FinBERT_content_score': float(df_save.loc[idx, \"finbert_content_score\"]),\n",
    "                    'FinBERT_title_and_description_sentiment': df_save.loc[idx, \"finbert_title_and_description_sentiment\"],\n",
    "                    'FinBERT_title_and_description_score': float(df_save.loc[idx, \"finbert_title_and_description_score\"]),\n",
    "                    \n",
    "                    'Llama-3-8B_content_sentiment': df_save.loc[idx, \"Llama-3-8B_content_sentiment\"],\n",
    "                    'Llama-3-8B_content_score': float(df_save.loc[idx, \"Llama-3-8B_content_score\"]),\n",
    "                    'Llama-3-8B_title_and_description_sentiment': df_save.loc[idx, \"Llama-3-8B_title_and_description_sentiment\"],\n",
    "                    'Llama-3-8B_title_and_description_score': float(df_save.loc[idx, \"Llama-3-8B_title_and_description_score\"]),\n",
    "                    \n",
    "                    'Phi-3.5-mini_content_sentiment': df_save.loc[idx, \"Phi-3.5-mini_content_sentiment\"], \n",
    "                    'Phi-3.5-mini_content_score': float(df_save.loc[idx, \"Phi-3.5-mini_content_score\"]),\n",
    "                    'Phi-3.5-mini_title_and_description_sentiment': df_save.loc[idx, \"Phi-3.5-mini_title_and_description_sentiment\"],\n",
    "                    'Phi-3.5-mini_title_and_description_score': float(df_save.loc[idx, \"Phi-3.5-mini_title_and_description_score\"]),\n",
    "                    \n",
    "                    'Mistral-7B-v0.3_content_sentiment': df_save.loc[idx, \"Mistral-7B-v0.3_content_sentiment\"], \n",
    "                    'Mistral-7B-v0.3_content_score': float(df_save.loc[idx, \"Mistral-7B-v0.3_content_score\"]),\n",
    "                    'Mistral-7B-v0.3_title_and_description_sentiment': df_save.loc[idx, \"Mistral-7B-v0.3_title_and_description_sentiment\"],\n",
    "                    'Mistral-7B-v0.3_title_and_description_score': float(df_save.loc[idx, \"Mistral-7B-v0.3_title_and_description_score\"]),\n",
    "                },\n",
    "                vector={\n",
    "                    \"cryptobert_embedding\": np.array(df_save.loc[idx, \"cryptobert_embedding\"]).tolist(),\n",
    "                }\n",
    "            ),\n",
    "        ],\n",
    "        wait=False\n",
    "    )"
   ]
  },
  {
   "cell_type": "markdown",
   "id": "60792dbc-fabf-4d5e-be63-6e078087ff32",
   "metadata": {},
   "source": [
    "## Имитация инкрементальной записи\n",
    "\n",
    "Намеренный отход от DRY, чтобы максимально подробно описать, что происходит"
   ]
  },
  {
   "cell_type": "code",
   "execution_count": 187,
   "id": "d347f0d3-c70f-4b91-9540-5b89dade52f3",
   "metadata": {},
   "outputs": [
    {
     "name": "stderr",
     "output_type": "stream",
     "text": [
      "100%|██████████| 20/20 [03:34<00:00, 10.72s/it]\n"
     ]
    }
   ],
   "source": [
    "for idx in tqdm.tqdm(range(df_test.shape[0])):\n",
    "    # Полученные данные с API\n",
    "    news_series = df_test.iloc[idx].copy()\n",
    "    \n",
    "    # Добавление новых колонок\n",
    "    news_series[\"cryptobert_embedding\"] = []\n",
    "\n",
    "    news_series[\"cryptobert_content_sentiment\"] = \"\"\n",
    "    news_series[\"cryptobert_content_score\"] = np.nan\n",
    "    news_series[\"cryptobert_title_and_description_sentiment\"] = \"\"\n",
    "    news_series[\"cryptobert_title_and_description_score\"] = np.nan\n",
    "    \n",
    "    news_series[\"finbert_content_sentiment\"] = \"\"\n",
    "    news_series[\"finbert_content_score\"] = np.nan\n",
    "    news_series[\"finbert_title_and_description_sentiment\"] = \"\"\n",
    "    news_series[\"finbert_title_and_description_score\"] = np.nan\n",
    "    \n",
    "    news_series[\"Llama-3-8B_content_sentiment\"] = \"\"\n",
    "    news_series[\"Llama-3-8B_content_score\"] = np.nan\n",
    "    news_series[\"Llama-3-8B_title_and_description_sentiment\"] = \"\"\n",
    "    news_series[\"Llama-3-8B_title_and_description_score\"] = np.nan\n",
    "    \n",
    "    news_series[\"Phi-3.5-mini_content_sentiment\"] = \"\"\n",
    "    news_series[\"Phi-3.5-mini_content_score\"] = np.nan\n",
    "    news_series[\"Phi-3.5-mini_title_and_description_sentiment\"] = \"\"\n",
    "    news_series[\"Phi-3.5-mini_title_and_description_score\"] = np.nan\n",
    "    \n",
    "    news_series[\"Mistral-7B-v0.3_content_sentiment\"] = \"\"\n",
    "    news_series[\"Mistral-7B-v0.3_content_score\"] = np.nan\n",
    "    news_series[\"Mistral-7B-v0.3_title_and_description_sentiment\"] = \"\"\n",
    "    news_series[\"Mistral-7B-v0.3_title_and_description_score\"] = np.nan\n",
    "\n",
    "    \n",
    "    # Основные расчёты\n",
    "    ## Расчёт эмбеддингов\n",
    "    news_series[\"cryptobert_embedding\"] = cryptobert_sentiment_embedding_calculate(news_series[\"title\"]).tolist()\n",
    "\n",
    "    ## CryptoBERT\n",
    "    cryptobert_content = cryptobert_sentiment_calculate(news_series[\"text\"])[0]\n",
    "    cryptobert_title_and_description = cryptobert_sentiment_calculate(news_series[\"title\"])[0]\n",
    "    news_series[\"cryptobert_content_sentiment\"] = cryptobert_content['label']\n",
    "    news_series[\"cryptobert_content_score\"] = cryptobert_content['score']\n",
    "    news_series[\"cryptobert_title_and_description_sentiment\"] = cryptobert_title_and_description['label']\n",
    "    news_series[\"cryptobert_title_and_description_score\"] = cryptobert_title_and_description['score']\n",
    "\n",
    "    ## FinBERT\n",
    "    finbert_content = finbert_sentiment_calculate(news_series[\"text\"])[0]\n",
    "    finbert_title_and_description = finbert_sentiment_calculate(news_series[\"title\"])[0]\n",
    "    news_series[\"finbert_content_sentiment\"] = finbert_content['label']\n",
    "    news_series[\"finbert_content_score\"] = finbert_content['score']\n",
    "    news_series[\"finbert_title_and_description_sentiment\"] = finbert_title_and_description['label']\n",
    "    news_series[\"finbert_title_and_description_score\"] = finbert_title_and_description['score']\n",
    "    \n",
    "    ## Llama-3-8B \n",
    "    llama_3_8B_content = llm_huggingface_sentiment_calculate(news_series[\"text\"], HUGGINGFACE_MODELS[0])[0]\n",
    "    llama_3_8B_title_and_description = llm_huggingface_sentiment_calculate(news_series[\"title\"], HUGGINGFACE_MODELS[0])[0]\n",
    "    news_series[\"Llama-3-8B_content_sentiment\"] = llama_3_8B_content['label']\n",
    "    news_series[\"Llama-3-8B_content_score\"] = llama_3_8B_content['score']\n",
    "    news_series[\"Llama-3-8B_title_and_description_sentiment\"] = llama_3_8B_title_and_description['label']\n",
    "    news_series[\"Llama-3-8B_title_and_description_score\"] = llama_3_8B_title_and_description['score']\n",
    "\n",
    "    ## Phi-3.5-mini\n",
    "    phi_3_5_mini_content = llm_huggingface_sentiment_calculate(news_series[\"text\"], HUGGINGFACE_MODELS[2])[0]\n",
    "    phi_3_5_mini_title_and_description = llm_huggingface_sentiment_calculate(news_series[\"title\"], HUGGINGFACE_MODELS[2])[0]\n",
    "    news_series[\"Phi-3.5-mini_content_sentiment\"] = phi_3_5_mini_content['label']\n",
    "    news_series[\"Phi-3.5-mini_content_score\"] = phi_3_5_mini_content['score']\n",
    "    news_series[\"Phi-3.5-mini_title_and_description_sentiment\"] = phi_3_5_mini_title_and_description['label']\n",
    "    news_series[\"Phi-3.5-mini_title_and_description_score\"] = phi_3_5_mini_title_and_description['score']\n",
    "\n",
    "    ## Mistral-7B-v0.3\n",
    "    mistral_7B_v0_3_content = llm_huggingface_sentiment_calculate(news_series[\"text\"], HUGGINGFACE_MODELS[3])[0]\n",
    "    mistral_7B_v0_3_title_and_description = llm_huggingface_sentiment_calculate(news_series[\"title\"], HUGGINGFACE_MODELS[3])[0]\n",
    "    news_series[\"Mistral-7B-v0.3_content_sentiment\"] = mistral_7B_v0_3_content['label']\n",
    "    news_series[\"Mistral-7B-v0.3_content_score\"] = mistral_7B_v0_3_content['score']\n",
    "    news_series[\"Mistral-7B-v0.3_title_and_description_sentiment\"] = mistral_7B_v0_3_title_and_description['label']\n",
    "    news_series[\"Mistral-7B-v0.3_title_and_description_score\"] = mistral_7B_v0_3_title_and_description['score']\n",
    "\n",
    "\n",
    "    # Сохранение результатов в Qdrant\n",
    "    q_client.upsert(\n",
    "        collection_name=\"btc_news\",\n",
    "        points=[\n",
    "            models.PointStruct(\n",
    "                id=idx,\n",
    "                payload={\n",
    "                    'published_at': news_series[\"published_at\"],\n",
    "                    'source': news_series[\"source\"],\n",
    "                    \n",
    "                    'CryptoBERT_content_sentiment': news_series[\"cryptobert_content_sentiment\"],\n",
    "                    'CryptoBERT_content_score': float(news_series[\"cryptobert_content_score\"]),\n",
    "                    'CryptoBERT_title_and_description_sentiment': news_series[\"cryptobert_title_and_description_sentiment\"],\n",
    "                    'CryptoBERT_title_and_description_score': float(news_series[\"cryptobert_title_and_description_score\"]),\n",
    "                    \n",
    "                    'FinBERT_content_sentiment': news_series[\"finbert_content_sentiment\"],\n",
    "                    'FinBERT_content_score': float(news_series[\"finbert_content_score\"]),\n",
    "                    'FinBERT_title_and_description_sentiment': news_series[\"finbert_title_and_description_sentiment\"],\n",
    "                    'FinBERT_title_and_description_score': float(news_series[\"finbert_title_and_description_score\"]),\n",
    "                    \n",
    "                    'Llama-3-8B_content_sentiment': news_series[\"Llama-3-8B_content_sentiment\"],\n",
    "                    'Llama-3-8B_content_score': float(news_series[\"Llama-3-8B_content_score\"]),\n",
    "                    'Llama-3-8B_title_and_description_sentiment': news_series[\"Llama-3-8B_title_and_description_sentiment\"],\n",
    "                    'Llama-3-8B_title_and_description_score': float(news_series[\"Llama-3-8B_title_and_description_score\"]),\n",
    "                    \n",
    "                    'Phi-3.5-mini_content_sentiment': news_series[\"Phi-3.5-mini_content_sentiment\"], \n",
    "                    'Phi-3.5-mini_content_score': float(news_series[\"Phi-3.5-mini_content_score\"]),\n",
    "                    'Phi-3.5-mini_title_and_description_sentiment': news_series[\"Phi-3.5-mini_title_and_description_sentiment\"],\n",
    "                    'Phi-3.5-mini_title_and_description_score': float(news_series[\"Phi-3.5-mini_title_and_description_score\"]),\n",
    "                    \n",
    "                    'Mistral-7B-v0.3_content_sentiment': news_series[\"Mistral-7B-v0.3_content_sentiment\"], \n",
    "                    'Mistral-7B-v0.3_content_score': float(news_series[\"Mistral-7B-v0.3_content_score\"]),\n",
    "                    'Mistral-7B-v0.3_title_and_description_sentiment': news_series[\"Mistral-7B-v0.3_title_and_description_sentiment\"],\n",
    "                    'Mistral-7B-v0.3_title_and_description_score': float(news_series[\"Mistral-7B-v0.3_title_and_description_score\"]),\n",
    "                },\n",
    "                vector={\n",
    "                    \"cryptobert_embedding\": np.array(news_series[\"cryptobert_embedding\"]).tolist(),\n",
    "                }\n",
    "            ),\n",
    "        ],\n",
    "        wait=False\n",
    "    )"
   ]
  },
  {
   "cell_type": "markdown",
   "id": "5fea3444-f8fc-4aa9-ac19-4db292d74c4a",
   "metadata": {},
   "source": [
    "# Поиск билжайших соседей по эмбеддингу"
   ]
  },
  {
   "cell_type": "code",
   "execution_count": 15,
   "id": "1130990d-9bc4-40b3-a1bc-fdd02a5ec79d",
   "metadata": {},
   "outputs": [],
   "source": [
    "emb_np = np.random.rand(768)"
   ]
  },
  {
   "cell_type": "code",
   "execution_count": 28,
   "id": "5a6de153-2901-49b4-bd07-e397d9b90561",
   "metadata": {},
   "outputs": [],
   "source": [
    "result = q_client.query_points(\n",
    "    collection_name=\"btc_news\",\n",
    "    query=emb,\n",
    "    using=\"cryptobert_embedding\",\n",
    "    with_payload=True,\n",
    ")"
   ]
  },
  {
   "cell_type": "code",
   "execution_count": 29,
   "id": "1d4a606d-0a78-4502-afd0-ef2dd2428a07",
   "metadata": {},
   "outputs": [],
   "source": [
    "result = list(result)[0][1]"
   ]
  },
  {
   "cell_type": "code",
   "execution_count": 35,
   "id": "2a55c96f-20c2-4ec6-ab6a-e0d5628785b5",
   "metadata": {},
   "outputs": [],
   "source": [
    "def update_sentiment(model_sentiment):\n",
    "    global sentiment\n",
    "\n",
    "    if model_sentiment == \"Positive\":\n",
    "        sentiment[\"Positive\"] += 1\n",
    "    elif model_sentiment == \"Negative\":\n",
    "        sentiment[\"Negative\"] += 1\n",
    "    elif model_sentiment == \"Neutral\":\n",
    "        sentiment[\"Neutral\"] += 1    "
   ]
  },
  {
   "cell_type": "code",
   "execution_count": 37,
   "id": "89170c90-fede-469a-8fa1-893acefebc51",
   "metadata": {},
   "outputs": [
    {
     "data": {
      "text/plain": [
       "0"
      ]
     },
     "execution_count": 37,
     "metadata": {},
     "output_type": "execute_result"
    }
   ],
   "source": [
    "data"
   ]
  },
  {
   "cell_type": "code",
   "execution_count": 38,
   "id": "461029d2-0912-4fbe-98c6-323dfb1bcba4",
   "metadata": {},
   "outputs": [],
   "source": [
    "sentiment = {\"Positive\": 0, \"Negative\": 0, \"Neutral\": 0}\n",
    "\n",
    "for idx in range(len(result)):\n",
    "    query_result = result[idx].__dict__[\"payload\"]\n",
    "\n",
    "    update_sentiment(query_result[\"CryptoBERT_content_sentiment\"])\n",
    "    update_sentiment(query_result[\"CryptoBERT_title_and_description_sentiment\"])\n",
    "    update_sentiment(query_result[\"FinBERT_content_sentiment\"])\n",
    "    update_sentiment(query_result[\"FinBERT_title_and_description_sentiment\"])\n",
    "    update_sentiment(query_result[\"Llama-3-8B_content_sentiment\"])\n",
    "    update_sentiment(query_result[\"Llama-3-8B_title_and_description_sentiment\"])\n",
    "    update_sentiment(query_result[\"Mistral-7B-v0.3_content_sentiment\"])\n",
    "    update_sentiment(query_result[\"Mistral-7B-v0.3_title_and_description_sentiment\"])\n",
    "    update_sentiment(query_result[\"Phi-3.5-mini_content_sentiment\"])\n",
    "    update_sentiment(query_result[\"Phi-3.5-mini_title_and_description_sentiment\"])\n",
    "    "
   ]
  },
  {
   "cell_type": "code",
   "execution_count": 39,
   "id": "2bb7dc1c-4e26-4d2b-8127-c252e4634cfe",
   "metadata": {},
   "outputs": [
    {
     "data": {
      "text/plain": [
       "{'Positive': 38, 'Negative': 0, 'Neutral': 20}"
      ]
     },
     "execution_count": 39,
     "metadata": {},
     "output_type": "execute_result"
    }
   ],
   "source": [
    "sentiment"
   ]
  },
  {
   "cell_type": "code",
   "execution_count": null,
   "id": "d38e11fc-6e61-4b80-9265-695fd2b4308f",
   "metadata": {},
   "outputs": [],
   "source": []
  }
 ],
 "metadata": {
  "kernelspec": {
   "display_name": "Python 3 (ipykernel)",
   "language": "python",
   "name": "python3"
  },
  "language_info": {
   "codemirror_mode": {
    "name": "ipython",
    "version": 3
   },
   "file_extension": ".py",
   "mimetype": "text/x-python",
   "name": "python",
   "nbconvert_exporter": "python",
   "pygments_lexer": "ipython3",
   "version": "3.11.10"
  }
 },
 "nbformat": 4,
 "nbformat_minor": 5
}
